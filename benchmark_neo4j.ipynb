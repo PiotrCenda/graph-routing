{
 "cells": [
  {
   "cell_type": "code",
   "execution_count": 3,
   "metadata": {},
   "outputs": [],
   "source": [
    "import time\n",
    "import neo4j\n",
    "import pandas as pd\n",
    "from tqdm import tqdm\n",
    "import geopy.distance\n",
    "import matplotlib.pyplot as plt"
   ]
  },
  {
   "cell_type": "markdown",
   "metadata": {},
   "source": [
    "### Connect to small database"
   ]
  },
  {
   "cell_type": "code",
   "execution_count": 4,
   "metadata": {},
   "outputs": [],
   "source": [
    "NEO4J_URI = \"bolt://localhost:7690\"\n",
    "NEO4J_USER = \"neo4j\"\n",
    "NEO4J_PASSWORD = \"graph-routing\"\n",
    "NEO4J_DATABASE = \"neo4j\"\n",
    "\n",
    "driver = neo4j.GraphDatabase.driver(NEO4J_URI, auth=(NEO4J_USER, NEO4J_PASSWORD), database=NEO4J_DATABASE)"
   ]
  },
  {
   "cell_type": "markdown",
   "metadata": {},
   "source": [
    "### Get result helper function"
   ]
  },
  {
   "cell_type": "code",
   "execution_count": 13,
   "metadata": {},
   "outputs": [],
   "source": [
    "def print_result(results):\n",
    "    result = [dict(i) for i in results]\n",
    "    print(result)\n",
    "    \n",
    "    result_all = results.consume()\n",
    "    print(f\"result_consumed_after: {result_all.result_consumed_after} ms\")\n",
    "    print(f\"result_available_after: {result_all.result_available_after} ms\\n\")"
   ]
  },
  {
   "cell_type": "markdown",
   "metadata": {},
   "source": [
    "### Check database numbers"
   ]
  },
  {
   "cell_type": "code",
   "execution_count": 11,
   "metadata": {},
   "outputs": [],
   "source": [
    "storage_query = \"\"\"\n",
    "    CALL apoc.monitor.store() \n",
    "    YIELD \n",
    "        logSize, \n",
    "        stringStoreSize, \n",
    "        arrayStoreSize, \n",
    "        relStoreSize, \n",
    "        propStoreSize, \n",
    "        totalStoreSize, \n",
    "        nodeStoreSize\n",
    "    RETURN *\n",
    "\"\"\"\n",
    "\n",
    "nodes_and_rels_nb_query = \"\"\"\n",
    "    CALL apoc.meta.stats() \n",
    "    YIELD nodeCount, relCount\n",
    "    RETURN *\n",
    "\"\"\""
   ]
  },
  {
   "cell_type": "code",
   "execution_count": 9,
   "metadata": {},
   "outputs": [
    {
     "ename": "ClientError",
     "evalue": "{code: Neo.ClientError.Procedure.ProcedureNotFound} {message: There is no procedure with the name `apoc.monitor.store` registered for this database instance. Please ensure you've spelled the procedure name correctly and that the procedure is properly deployed.}",
     "output_type": "error",
     "traceback": [
      "\u001b[0;31m---------------------------------------------------------------------------\u001b[0m",
      "\u001b[0;31mClientError\u001b[0m                               Traceback (most recent call last)",
      "\u001b[1;32m/home/pcend/Piotr/kod/graph-routing/benchmark_neo4j.ipynb Cell 8\u001b[0m line \u001b[0;36m2\n\u001b[1;32m      <a href='vscode-notebook-cell:/home/pcend/Piotr/kod/graph-routing/benchmark_neo4j.ipynb#Y121sZmlsZQ%3D%3D?line=0'>1</a>\u001b[0m \u001b[39mwith\u001b[39;00m driver\u001b[39m.\u001b[39msession() \u001b[39mas\u001b[39;00m session:\n\u001b[0;32m----> <a href='vscode-notebook-cell:/home/pcend/Piotr/kod/graph-routing/benchmark_neo4j.ipynb#Y121sZmlsZQ%3D%3D?line=1'>2</a>\u001b[0m     results \u001b[39m=\u001b[39m session\u001b[39m.\u001b[39;49mrun(storage_query)\n\u001b[1;32m      <a href='vscode-notebook-cell:/home/pcend/Piotr/kod/graph-routing/benchmark_neo4j.ipynb#Y121sZmlsZQ%3D%3D?line=2'>3</a>\u001b[0m     print_result(results)\n",
      "File \u001b[0;32m~/Piotr/kod/graph-routing/venv/lib/python3.11/site-packages/neo4j/_sync/work/session.py:314\u001b[0m, in \u001b[0;36mSession.run\u001b[0;34m(self, query, parameters, **kwargs)\u001b[0m\n\u001b[1;32m    312\u001b[0m bookmarks \u001b[39m=\u001b[39m \u001b[39mself\u001b[39m\u001b[39m.\u001b[39m_get_bookmarks()\n\u001b[1;32m    313\u001b[0m parameters \u001b[39m=\u001b[39m \u001b[39mdict\u001b[39m(parameters \u001b[39mor\u001b[39;00m {}, \u001b[39m*\u001b[39m\u001b[39m*\u001b[39mkwargs)\n\u001b[0;32m--> 314\u001b[0m \u001b[39mself\u001b[39;49m\u001b[39m.\u001b[39;49m_auto_result\u001b[39m.\u001b[39;49m_run(\n\u001b[1;32m    315\u001b[0m     query, parameters, \u001b[39mself\u001b[39;49m\u001b[39m.\u001b[39;49m_config\u001b[39m.\u001b[39;49mdatabase,\n\u001b[1;32m    316\u001b[0m     \u001b[39mself\u001b[39;49m\u001b[39m.\u001b[39;49m_config\u001b[39m.\u001b[39;49mimpersonated_user, \u001b[39mself\u001b[39;49m\u001b[39m.\u001b[39;49m_config\u001b[39m.\u001b[39;49mdefault_access_mode,\n\u001b[1;32m    317\u001b[0m     bookmarks, \u001b[39mself\u001b[39;49m\u001b[39m.\u001b[39;49m_config\u001b[39m.\u001b[39;49mnotifications_min_severity,\n\u001b[1;32m    318\u001b[0m     \u001b[39mself\u001b[39;49m\u001b[39m.\u001b[39;49m_config\u001b[39m.\u001b[39;49mnotifications_disabled_categories,\n\u001b[1;32m    319\u001b[0m )\n\u001b[1;32m    321\u001b[0m \u001b[39mreturn\u001b[39;00m \u001b[39mself\u001b[39m\u001b[39m.\u001b[39m_auto_result\n",
      "File \u001b[0;32m~/Piotr/kod/graph-routing/venv/lib/python3.11/site-packages/neo4j/_sync/work/result.py:166\u001b[0m, in \u001b[0;36mResult._run\u001b[0;34m(self, query, parameters, db, imp_user, access_mode, bookmarks, notifications_min_severity, notifications_disabled_categories)\u001b[0m\n\u001b[1;32m    164\u001b[0m \u001b[39mself\u001b[39m\u001b[39m.\u001b[39m_pull()\n\u001b[1;32m    165\u001b[0m \u001b[39mself\u001b[39m\u001b[39m.\u001b[39m_connection\u001b[39m.\u001b[39msend_all()\n\u001b[0;32m--> 166\u001b[0m \u001b[39mself\u001b[39;49m\u001b[39m.\u001b[39;49m_attach()\n",
      "File \u001b[0;32m~/Piotr/kod/graph-routing/venv/lib/python3.11/site-packages/neo4j/_sync/work/result.py:274\u001b[0m, in \u001b[0;36mResult._attach\u001b[0;34m(self)\u001b[0m\n\u001b[1;32m    272\u001b[0m \u001b[39mif\u001b[39;00m \u001b[39mself\u001b[39m\u001b[39m.\u001b[39m_exhausted \u001b[39mis\u001b[39;00m \u001b[39mFalse\u001b[39;00m:\n\u001b[1;32m    273\u001b[0m     \u001b[39mwhile\u001b[39;00m \u001b[39mself\u001b[39m\u001b[39m.\u001b[39m_attached \u001b[39mis\u001b[39;00m \u001b[39mFalse\u001b[39;00m:\n\u001b[0;32m--> 274\u001b[0m         \u001b[39mself\u001b[39;49m\u001b[39m.\u001b[39;49m_connection\u001b[39m.\u001b[39;49mfetch_message()\n",
      "File \u001b[0;32m~/Piotr/kod/graph-routing/venv/lib/python3.11/site-packages/neo4j/_sync/io/_common.py:180\u001b[0m, in \u001b[0;36mConnectionErrorHandler.__getattr__.<locals>.outer.<locals>.inner\u001b[0;34m(*args, **kwargs)\u001b[0m\n\u001b[1;32m    178\u001b[0m \u001b[39mdef\u001b[39;00m \u001b[39minner\u001b[39m(\u001b[39m*\u001b[39margs, \u001b[39m*\u001b[39m\u001b[39m*\u001b[39mkwargs):\n\u001b[1;32m    179\u001b[0m     \u001b[39mtry\u001b[39;00m:\n\u001b[0;32m--> 180\u001b[0m         func(\u001b[39m*\u001b[39;49margs, \u001b[39m*\u001b[39;49m\u001b[39m*\u001b[39;49mkwargs)\n\u001b[1;32m    181\u001b[0m     \u001b[39mexcept\u001b[39;00m (Neo4jError, ServiceUnavailable, SessionExpired) \u001b[39mas\u001b[39;00m exc:\n\u001b[1;32m    182\u001b[0m         \u001b[39massert\u001b[39;00m \u001b[39mnot\u001b[39;00m asyncio\u001b[39m.\u001b[39miscoroutinefunction(\u001b[39mself\u001b[39m\u001b[39m.\u001b[39m__on_error)\n",
      "File \u001b[0;32m~/Piotr/kod/graph-routing/venv/lib/python3.11/site-packages/neo4j/_sync/io/_bolt.py:851\u001b[0m, in \u001b[0;36mBolt.fetch_message\u001b[0;34m(self)\u001b[0m\n\u001b[1;32m    847\u001b[0m \u001b[39m# Receive exactly one message\u001b[39;00m\n\u001b[1;32m    848\u001b[0m tag, fields \u001b[39m=\u001b[39m \u001b[39mself\u001b[39m\u001b[39m.\u001b[39minbox\u001b[39m.\u001b[39mpop(\n\u001b[1;32m    849\u001b[0m     hydration_hooks\u001b[39m=\u001b[39m\u001b[39mself\u001b[39m\u001b[39m.\u001b[39mresponses[\u001b[39m0\u001b[39m]\u001b[39m.\u001b[39mhydration_hooks\n\u001b[1;32m    850\u001b[0m )\n\u001b[0;32m--> 851\u001b[0m res \u001b[39m=\u001b[39m \u001b[39mself\u001b[39;49m\u001b[39m.\u001b[39;49m_process_message(tag, fields)\n\u001b[1;32m    852\u001b[0m \u001b[39mself\u001b[39m\u001b[39m.\u001b[39midle_since \u001b[39m=\u001b[39m perf_counter()\n\u001b[1;32m    853\u001b[0m \u001b[39mreturn\u001b[39;00m res\n",
      "File \u001b[0;32m~/Piotr/kod/graph-routing/venv/lib/python3.11/site-packages/neo4j/_sync/io/_bolt5.py:376\u001b[0m, in \u001b[0;36mBolt5x0._process_message\u001b[0;34m(self, tag, fields)\u001b[0m\n\u001b[1;32m    374\u001b[0m \u001b[39mself\u001b[39m\u001b[39m.\u001b[39m_server_state_manager\u001b[39m.\u001b[39mstate \u001b[39m=\u001b[39m \u001b[39mself\u001b[39m\u001b[39m.\u001b[39mbolt_states\u001b[39m.\u001b[39mFAILED\n\u001b[1;32m    375\u001b[0m \u001b[39mtry\u001b[39;00m:\n\u001b[0;32m--> 376\u001b[0m     response\u001b[39m.\u001b[39;49mon_failure(summary_metadata \u001b[39mor\u001b[39;49;00m {})\n\u001b[1;32m    377\u001b[0m \u001b[39mexcept\u001b[39;00m (ServiceUnavailable, DatabaseUnavailable):\n\u001b[1;32m    378\u001b[0m     \u001b[39mif\u001b[39;00m \u001b[39mself\u001b[39m\u001b[39m.\u001b[39mpool:\n",
      "File \u001b[0;32m~/Piotr/kod/graph-routing/venv/lib/python3.11/site-packages/neo4j/_sync/io/_common.py:247\u001b[0m, in \u001b[0;36mResponse.on_failure\u001b[0;34m(self, metadata)\u001b[0m\n\u001b[1;32m    245\u001b[0m handler \u001b[39m=\u001b[39m \u001b[39mself\u001b[39m\u001b[39m.\u001b[39mhandlers\u001b[39m.\u001b[39mget(\u001b[39m\"\u001b[39m\u001b[39mon_summary\u001b[39m\u001b[39m\"\u001b[39m)\n\u001b[1;32m    246\u001b[0m Util\u001b[39m.\u001b[39mcallback(handler)\n\u001b[0;32m--> 247\u001b[0m \u001b[39mraise\u001b[39;00m Neo4jError\u001b[39m.\u001b[39mhydrate(\u001b[39m*\u001b[39m\u001b[39m*\u001b[39mmetadata)\n",
      "\u001b[0;31mClientError\u001b[0m: {code: Neo.ClientError.Procedure.ProcedureNotFound} {message: There is no procedure with the name `apoc.monitor.store` registered for this database instance. Please ensure you've spelled the procedure name correctly and that the procedure is properly deployed.}"
     ]
    }
   ],
   "source": [
    "with driver.session() as session:\n",
    "    results = session.run(storage_query)\n",
    "    print_result(results)"
   ]
  },
  {
   "cell_type": "code",
   "execution_count": 14,
   "metadata": {},
   "outputs": [
    {
     "name": "stdout",
     "output_type": "stream",
     "text": [
      "[{'nodeCount': 333120, 'relCount': 721628}]\n",
      "result_consumed_after: 9 ms\n",
      "result_available_after: 5 ms\n",
      "\n"
     ]
    }
   ],
   "source": [
    "with driver.session() as session:\n",
    "    results = session.run(nodes_and_rels_nb_query)\n",
    "    print_result(results)"
   ]
  },
  {
   "cell_type": "markdown",
   "metadata": {},
   "source": [
    "### Plotting function"
   ]
  },
  {
   "cell_type": "code",
   "execution_count": 15,
   "metadata": {},
   "outputs": [],
   "source": [
    "def plot_query_times(query_times, save=False, filepath=None):\n",
    "    query_nb = [i for i in range(1, len(query_times) + 1)]\n",
    "    plt.plot(query_nb, query_times, marker=\".\", color=\"teal\")\n",
    "    plt.xlabel(\"Query number\")\n",
    "    plt.ylabel(\"Query execution time [ms]\")\n",
    "    \n",
    "    if save:\n",
    "        plt.show()\n",
    "        plt.savefig(filepath, bbox_inches=\"tight\", dpi=200)\n",
    "        plt.close()\n",
    "        \n",
    "    else:\n",
    "        plt.show()"
   ]
  },
  {
   "cell_type": "markdown",
   "metadata": {},
   "source": [
    "### Nodes selection"
   ]
  },
  {
   "cell_type": "code",
   "execution_count": 16,
   "metadata": {},
   "outputs": [],
   "source": [
    "nodes = pd.read_csv(\"./data/krakow/nodes_neo4j.csv\")"
   ]
  },
  {
   "cell_type": "code",
   "execution_count": 17,
   "metadata": {},
   "outputs": [
    {
     "name": "stdout",
     "output_type": "stream",
     "text": [
      "osmid_1_small: 9589826850, osmid_2_small: 9723732263, distance: 28.247114621190956 km\n"
     ]
    }
   ],
   "source": [
    "# two random osmid\n",
    "distance_small = 0\n",
    "osmid_1_small = 0\n",
    "osmid_2_small = 0\n",
    "\n",
    "while distance_small < 25:\n",
    "    start_and_finish = nodes.sample(2)\n",
    "\n",
    "    osmid_1_small = int(start_and_finish.iloc[0][\"osmid\"])\n",
    "    osmid_2_small = int(start_and_finish.iloc[1][\"osmid\"])\n",
    "\n",
    "    coords_1 = start_and_finish.iloc[0][\"y\"], start_and_finish.iloc[0][\"x\"]\n",
    "    coords_2 = start_and_finish.iloc[1][\"y\"], start_and_finish.iloc[1][\"x\"]\n",
    "    \n",
    "    distance_small = geopy.distance.distance(coords_1, coords_2).km\n",
    "\n",
    "print(f\"osmid_1_small: {osmid_1_small}, osmid_2_small: {osmid_2_small}, distance: {distance_small} km\")"
   ]
  },
  {
   "cell_type": "markdown",
   "metadata": {},
   "source": [
    "### Paths queries and parsing query time"
   ]
  },
  {
   "cell_type": "code",
   "execution_count": 19,
   "metadata": {},
   "outputs": [],
   "source": [
    "def parse_query_time(results):\n",
    "    _ = [dict(i) for i in results]\n",
    "    result_all = results.consume()\n",
    "    return int(result_all.result_consumed_after)"
   ]
  },
  {
   "cell_type": "code",
   "execution_count": 20,
   "metadata": {},
   "outputs": [],
   "source": [
    "def dijkstra_query(tx, osmid_1, osmid_2):\n",
    "    dijkstra_query_string = f\"\"\"\n",
    "        MATCH (source:Intersection {{osmid: {osmid_1}}}) \n",
    "        MATCH (target:Intersection {{osmid: {osmid_2}}})\n",
    "        CALL apoc.algo.dijkstra(source, target, \"\", \"length\")\n",
    "        YIELD path, weight\n",
    "        RETURN path, weight\n",
    "        \"\"\"\n",
    "    results = tx.run(dijkstra_query_string)\n",
    "    query_time = parse_query_time(results)\n",
    "    return query_time\n",
    "    \n",
    "def astar_query(tx, osmid_1, osmid_2):\n",
    "    astar_query_string = f\"\"\"\n",
    "        MATCH (source:Intersection {{osmid: {osmid_1}}}) \n",
    "        MATCH (target:Intersection {{osmid: {osmid_2}}})\n",
    "        CALL apoc.algo.aStar(source, target, \"\", \"length\", \"latitude\", \"longitude\")\n",
    "        YIELD path, weight\n",
    "        RETURN path, weight\n",
    "        \"\"\"\n",
    "    results = tx.run(astar_query_string)\n",
    "    query_time = parse_query_time(results)\n",
    "    return query_time"
   ]
  },
  {
   "cell_type": "markdown",
   "metadata": {},
   "source": [
    "### How many queries"
   ]
  },
  {
   "cell_type": "code",
   "execution_count": 21,
   "metadata": {},
   "outputs": [],
   "source": [
    "query_number = 30"
   ]
  },
  {
   "cell_type": "markdown",
   "metadata": {},
   "source": [
    "### Djikstra small distance, small database"
   ]
  },
  {
   "cell_type": "code",
   "execution_count": 25,
   "metadata": {},
   "outputs": [
    {
     "name": "stdout",
     "output_type": "stream",
     "text": [
      "query times: 6665\n"
     ]
    }
   ],
   "source": [
    "with driver.session() as session:\n",
    "    query_time = session.execute_write(dijkstra_query, osmid_1_small, osmid_2_small)\n",
    "\n",
    "print(f\"query times: {query_time}\")"
   ]
  },
  {
   "cell_type": "code",
   "execution_count": 26,
   "metadata": {},
   "outputs": [
    {
     "name": "stderr",
     "output_type": "stream",
     "text": [
      "Query: 100%|██████████| 30/30 [04:58<00:00,  9.94s/it]"
     ]
    },
    {
     "name": "stdout",
     "output_type": "stream",
     "text": [
      "queries times: [7912, 11526, 9485, 6556, 9376, 12144, 7744, 11564, 7863, 11839, 9095, 11753, 9648, 11575, 11677, 6994, 11727, 7621, 11522, 12722, 6919, 10701, 11324, 7441, 11253, 10655, 6661, 9954, 11528, 6096]\n"
     ]
    },
    {
     "name": "stderr",
     "output_type": "stream",
     "text": [
      "\n"
     ]
    },
    {
     "data": {
      "image/png": "[encoded data removed]",
      "text/plain": [
       "<Figure size 640x480 with 1 Axes>"
      ]
     },
     "metadata": {},
     "output_type": "display_data"
    }
   ],
   "source": [
    "djikstra_query_times = []\n",
    "\n",
    "for _ in tqdm(range(query_number), desc=\"Query\"):\n",
    "    with driver.session() as session:\n",
    "        query_time = session.execute_write(dijkstra_query, osmid_1_small, osmid_2_small)\n",
    "        djikstra_query_times.append(query_time)\n",
    "    time.sleep(0.1)\n",
    "    \n",
    "print(f\"queries times: {djikstra_query_times}\")\n",
    "\n",
    "plot_query_times(djikstra_query_times)"
   ]
  },
  {
   "cell_type": "markdown",
   "metadata": {},
   "source": [
    "### Astar small distance, small database"
   ]
  },
  {
   "cell_type": "code",
   "execution_count": 27,
   "metadata": {},
   "outputs": [
    {
     "name": "stdout",
     "output_type": "stream",
     "text": [
      "query times: 775 ms\n"
     ]
    }
   ],
   "source": [
    "with driver.session() as session:\n",
    "    query_time = session.execute_write(astar_query, osmid_1_small, osmid_2_small)\n",
    "\n",
    "print(f\"query times: {query_time} ms\")"
   ]
  },
  {
   "cell_type": "code",
   "execution_count": 28,
   "metadata": {},
   "outputs": [
    {
     "name": "stderr",
     "output_type": "stream",
     "text": [
      "Query: 100%|██████████| 30/30 [00:22<00:00,  1.34it/s]"
     ]
    },
    {
     "name": "stdout",
     "output_type": "stream",
     "text": [
      "queries times: [601, 624, 596, 651, 567, 601, 583, 543, 571, 634, 623, 589, 566, 548, 566, 563, 557, 598, 602, 583, 574, 543, 631, 548, 546, 561, 568, 542, 544, 538]\n"
     ]
    },
    {
     "name": "stderr",
     "output_type": "stream",
     "text": [
      "\n"
     ]
    },
    {
     "data": {
      "image/png": "[encoded data removed]",
      "text/plain": [
       "<Figure size 640x480 with 1 Axes>"
      ]
     },
     "metadata": {},
     "output_type": "display_data"
    }
   ],
   "source": [
    "astar_query_times = []\n",
    "\n",
    "for _ in tqdm(range(query_number), desc=\"Query\"):\n",
    "    with driver.session() as session:\n",
    "        query_time = session.execute_write(astar_query, osmid_1_small, osmid_2_small)\n",
    "        astar_query_times.append(query_time)\n",
    "    time.sleep(0.1)\n",
    "    \n",
    "print(f\"queries times: {astar_query_times}\")\n",
    "\n",
    "plot_query_times(astar_query_times)"
   ]
  },
  {
   "cell_type": "markdown",
   "metadata": {},
   "source": [
    "### Connect to big database"
   ]
  },
  {
   "cell_type": "code",
   "execution_count": 29,
   "metadata": {},
   "outputs": [],
   "source": [
    "NEO4J_URI = \"bolt://localhost:7690\"\n",
    "NEO4J_USER = \"neo4j\"\n",
    "NEO4J_PASSWORD = \"graph-routing\"\n",
    "NEO4J_DATABASE = \"neo4j\"\n",
    "\n",
    "driver = neo4j.GraphDatabase.driver(NEO4J_URI, auth=(NEO4J_USER, NEO4J_PASSWORD), database=NEO4J_DATABASE)"
   ]
  },
  {
   "cell_type": "markdown",
   "metadata": {},
   "source": [
    "### Selection of nodes"
   ]
  },
  {
   "cell_type": "code",
   "execution_count": 30,
   "metadata": {},
   "outputs": [],
   "source": [
    "nodes = pd.read_csv(\"./data/krakow_big/nodes_neo4j.csv\")"
   ]
  },
  {
   "cell_type": "code",
   "execution_count": 31,
   "metadata": {},
   "outputs": [
    {
     "name": "stdout",
     "output_type": "stream",
     "text": [
      "osmid_1_big: 11135757837, osmid_2_big: 5478093202, distance: 312.2738416105581 km\n"
     ]
    }
   ],
   "source": [
    "distance_big = 0\n",
    "osmid_1_big = 0\n",
    "osmid_2_big = 0\n",
    "\n",
    "while distance_big < 300:\n",
    "    start_and_finish = nodes.sample(2)\n",
    "\n",
    "    osmid_1_big = int(start_and_finish.iloc[0][\"osmid\"])\n",
    "    osmid_2_big = int(start_and_finish.iloc[1][\"osmid\"])\n",
    "\n",
    "    coords_1 = start_and_finish.iloc[0][\"y\"], start_and_finish.iloc[0][\"x\"]\n",
    "    coords_2 = start_and_finish.iloc[1][\"y\"], start_and_finish.iloc[1][\"x\"]\n",
    "    \n",
    "    distance_big = geopy.distance.distance(coords_1, coords_2).km\n",
    "\n",
    "print(f\"osmid_1_big: {osmid_1_big}, osmid_2_big: {osmid_2_big}, distance: {distance_big} km\")"
   ]
  },
  {
   "cell_type": "markdown",
   "metadata": {},
   "source": [
    "### Check data size and number of records"
   ]
  },
  {
   "cell_type": "code",
   "execution_count": 32,
   "metadata": {},
   "outputs": [
    {
     "ename": "ClientError",
     "evalue": "{code: Neo.ClientError.Procedure.ProcedureNotFound} {message: There is no procedure with the name `apoc.monitor.store` registered for this database instance. Please ensure you've spelled the procedure name correctly and that the procedure is properly deployed.}",
     "output_type": "error",
     "traceback": [
      "\u001b[0;31m---------------------------------------------------------------------------\u001b[0m",
      "\u001b[0;31mClientError\u001b[0m                               Traceback (most recent call last)",
      "\u001b[1;32m/home/pcend/Piotr/kod/graph-routing/benchmark_neo4j.ipynb Cell 32\u001b[0m line \u001b[0;36m2\n\u001b[1;32m      <a href='vscode-notebook-cell:/home/pcend/Piotr/kod/graph-routing/benchmark_neo4j.ipynb#Y111sZmlsZQ%3D%3D?line=0'>1</a>\u001b[0m \u001b[39mwith\u001b[39;00m driver\u001b[39m.\u001b[39msession() \u001b[39mas\u001b[39;00m session:\n\u001b[0;32m----> <a href='vscode-notebook-cell:/home/pcend/Piotr/kod/graph-routing/benchmark_neo4j.ipynb#Y111sZmlsZQ%3D%3D?line=1'>2</a>\u001b[0m     results \u001b[39m=\u001b[39m session\u001b[39m.\u001b[39;49mrun(storage_query)\n\u001b[1;32m      <a href='vscode-notebook-cell:/home/pcend/Piotr/kod/graph-routing/benchmark_neo4j.ipynb#Y111sZmlsZQ%3D%3D?line=2'>3</a>\u001b[0m     print_result(results)\n",
      "File \u001b[0;32m~/Piotr/kod/graph-routing/venv/lib/python3.11/site-packages/neo4j/_sync/work/session.py:314\u001b[0m, in \u001b[0;36mSession.run\u001b[0;34m(self, query, parameters, **kwargs)\u001b[0m\n\u001b[1;32m    312\u001b[0m bookmarks \u001b[39m=\u001b[39m \u001b[39mself\u001b[39m\u001b[39m.\u001b[39m_get_bookmarks()\n\u001b[1;32m    313\u001b[0m parameters \u001b[39m=\u001b[39m \u001b[39mdict\u001b[39m(parameters \u001b[39mor\u001b[39;00m {}, \u001b[39m*\u001b[39m\u001b[39m*\u001b[39mkwargs)\n\u001b[0;32m--> 314\u001b[0m \u001b[39mself\u001b[39;49m\u001b[39m.\u001b[39;49m_auto_result\u001b[39m.\u001b[39;49m_run(\n\u001b[1;32m    315\u001b[0m     query, parameters, \u001b[39mself\u001b[39;49m\u001b[39m.\u001b[39;49m_config\u001b[39m.\u001b[39;49mdatabase,\n\u001b[1;32m    316\u001b[0m     \u001b[39mself\u001b[39;49m\u001b[39m.\u001b[39;49m_config\u001b[39m.\u001b[39;49mimpersonated_user, \u001b[39mself\u001b[39;49m\u001b[39m.\u001b[39;49m_config\u001b[39m.\u001b[39;49mdefault_access_mode,\n\u001b[1;32m    317\u001b[0m     bookmarks, \u001b[39mself\u001b[39;49m\u001b[39m.\u001b[39;49m_config\u001b[39m.\u001b[39;49mnotifications_min_severity,\n\u001b[1;32m    318\u001b[0m     \u001b[39mself\u001b[39;49m\u001b[39m.\u001b[39;49m_config\u001b[39m.\u001b[39;49mnotifications_disabled_categories,\n\u001b[1;32m    319\u001b[0m )\n\u001b[1;32m    321\u001b[0m \u001b[39mreturn\u001b[39;00m \u001b[39mself\u001b[39m\u001b[39m.\u001b[39m_auto_result\n",
      "File \u001b[0;32m~/Piotr/kod/graph-routing/venv/lib/python3.11/site-packages/neo4j/_sync/work/result.py:166\u001b[0m, in \u001b[0;36mResult._run\u001b[0;34m(self, query, parameters, db, imp_user, access_mode, bookmarks, notifications_min_severity, notifications_disabled_categories)\u001b[0m\n\u001b[1;32m    164\u001b[0m \u001b[39mself\u001b[39m\u001b[39m.\u001b[39m_pull()\n\u001b[1;32m    165\u001b[0m \u001b[39mself\u001b[39m\u001b[39m.\u001b[39m_connection\u001b[39m.\u001b[39msend_all()\n\u001b[0;32m--> 166\u001b[0m \u001b[39mself\u001b[39;49m\u001b[39m.\u001b[39;49m_attach()\n",
      "File \u001b[0;32m~/Piotr/kod/graph-routing/venv/lib/python3.11/site-packages/neo4j/_sync/work/result.py:274\u001b[0m, in \u001b[0;36mResult._attach\u001b[0;34m(self)\u001b[0m\n\u001b[1;32m    272\u001b[0m \u001b[39mif\u001b[39;00m \u001b[39mself\u001b[39m\u001b[39m.\u001b[39m_exhausted \u001b[39mis\u001b[39;00m \u001b[39mFalse\u001b[39;00m:\n\u001b[1;32m    273\u001b[0m     \u001b[39mwhile\u001b[39;00m \u001b[39mself\u001b[39m\u001b[39m.\u001b[39m_attached \u001b[39mis\u001b[39;00m \u001b[39mFalse\u001b[39;00m:\n\u001b[0;32m--> 274\u001b[0m         \u001b[39mself\u001b[39;49m\u001b[39m.\u001b[39;49m_connection\u001b[39m.\u001b[39;49mfetch_message()\n",
      "File \u001b[0;32m~/Piotr/kod/graph-routing/venv/lib/python3.11/site-packages/neo4j/_sync/io/_common.py:180\u001b[0m, in \u001b[0;36mConnectionErrorHandler.__getattr__.<locals>.outer.<locals>.inner\u001b[0;34m(*args, **kwargs)\u001b[0m\n\u001b[1;32m    178\u001b[0m \u001b[39mdef\u001b[39;00m \u001b[39minner\u001b[39m(\u001b[39m*\u001b[39margs, \u001b[39m*\u001b[39m\u001b[39m*\u001b[39mkwargs):\n\u001b[1;32m    179\u001b[0m     \u001b[39mtry\u001b[39;00m:\n\u001b[0;32m--> 180\u001b[0m         func(\u001b[39m*\u001b[39;49margs, \u001b[39m*\u001b[39;49m\u001b[39m*\u001b[39;49mkwargs)\n\u001b[1;32m    181\u001b[0m     \u001b[39mexcept\u001b[39;00m (Neo4jError, ServiceUnavailable, SessionExpired) \u001b[39mas\u001b[39;00m exc:\n\u001b[1;32m    182\u001b[0m         \u001b[39massert\u001b[39;00m \u001b[39mnot\u001b[39;00m asyncio\u001b[39m.\u001b[39miscoroutinefunction(\u001b[39mself\u001b[39m\u001b[39m.\u001b[39m__on_error)\n",
      "File \u001b[0;32m~/Piotr/kod/graph-routing/venv/lib/python3.11/site-packages/neo4j/_sync/io/_bolt.py:851\u001b[0m, in \u001b[0;36mBolt.fetch_message\u001b[0;34m(self)\u001b[0m\n\u001b[1;32m    847\u001b[0m \u001b[39m# Receive exactly one message\u001b[39;00m\n\u001b[1;32m    848\u001b[0m tag, fields \u001b[39m=\u001b[39m \u001b[39mself\u001b[39m\u001b[39m.\u001b[39minbox\u001b[39m.\u001b[39mpop(\n\u001b[1;32m    849\u001b[0m     hydration_hooks\u001b[39m=\u001b[39m\u001b[39mself\u001b[39m\u001b[39m.\u001b[39mresponses[\u001b[39m0\u001b[39m]\u001b[39m.\u001b[39mhydration_hooks\n\u001b[1;32m    850\u001b[0m )\n\u001b[0;32m--> 851\u001b[0m res \u001b[39m=\u001b[39m \u001b[39mself\u001b[39;49m\u001b[39m.\u001b[39;49m_process_message(tag, fields)\n\u001b[1;32m    852\u001b[0m \u001b[39mself\u001b[39m\u001b[39m.\u001b[39midle_since \u001b[39m=\u001b[39m perf_counter()\n\u001b[1;32m    853\u001b[0m \u001b[39mreturn\u001b[39;00m res\n",
      "File \u001b[0;32m~/Piotr/kod/graph-routing/venv/lib/python3.11/site-packages/neo4j/_sync/io/_bolt5.py:376\u001b[0m, in \u001b[0;36mBolt5x0._process_message\u001b[0;34m(self, tag, fields)\u001b[0m\n\u001b[1;32m    374\u001b[0m \u001b[39mself\u001b[39m\u001b[39m.\u001b[39m_server_state_manager\u001b[39m.\u001b[39mstate \u001b[39m=\u001b[39m \u001b[39mself\u001b[39m\u001b[39m.\u001b[39mbolt_states\u001b[39m.\u001b[39mFAILED\n\u001b[1;32m    375\u001b[0m \u001b[39mtry\u001b[39;00m:\n\u001b[0;32m--> 376\u001b[0m     response\u001b[39m.\u001b[39;49mon_failure(summary_metadata \u001b[39mor\u001b[39;49;00m {})\n\u001b[1;32m    377\u001b[0m \u001b[39mexcept\u001b[39;00m (ServiceUnavailable, DatabaseUnavailable):\n\u001b[1;32m    378\u001b[0m     \u001b[39mif\u001b[39;00m \u001b[39mself\u001b[39m\u001b[39m.\u001b[39mpool:\n",
      "File \u001b[0;32m~/Piotr/kod/graph-routing/venv/lib/python3.11/site-packages/neo4j/_sync/io/_common.py:247\u001b[0m, in \u001b[0;36mResponse.on_failure\u001b[0;34m(self, metadata)\u001b[0m\n\u001b[1;32m    245\u001b[0m handler \u001b[39m=\u001b[39m \u001b[39mself\u001b[39m\u001b[39m.\u001b[39mhandlers\u001b[39m.\u001b[39mget(\u001b[39m\"\u001b[39m\u001b[39mon_summary\u001b[39m\u001b[39m\"\u001b[39m)\n\u001b[1;32m    246\u001b[0m Util\u001b[39m.\u001b[39mcallback(handler)\n\u001b[0;32m--> 247\u001b[0m \u001b[39mraise\u001b[39;00m Neo4jError\u001b[39m.\u001b[39mhydrate(\u001b[39m*\u001b[39m\u001b[39m*\u001b[39mmetadata)\n",
      "\u001b[0;31mClientError\u001b[0m: {code: Neo.ClientError.Procedure.ProcedureNotFound} {message: There is no procedure with the name `apoc.monitor.store` registered for this database instance. Please ensure you've spelled the procedure name correctly and that the procedure is properly deployed.}"
     ]
    }
   ],
   "source": [
    "with driver.session() as session:\n",
    "    results = session.run(storage_query)\n",
    "    print_result(results)"
   ]
  },
  {
   "cell_type": "code",
   "execution_count": 33,
   "metadata": {},
   "outputs": [
    {
     "name": "stdout",
     "output_type": "stream",
     "text": [
      "[{'nodeCount': 12799075, 'relCount': 26649381}]\n",
      "result_consumed_after: 147 ms\n",
      "result_available_after: 210 ms\n",
      "\n"
     ]
    }
   ],
   "source": [
    "with driver.session() as session:\n",
    "    results = session.run(nodes_and_rels_nb_query)\n",
    "    print_result(results)"
   ]
  },
  {
   "cell_type": "markdown",
   "metadata": {},
   "source": [
    "### Decrease number of queries"
   ]
  },
  {
   "cell_type": "code",
   "execution_count": 34,
   "metadata": {},
   "outputs": [],
   "source": [
    "query_number = 10"
   ]
  },
  {
   "cell_type": "markdown",
   "metadata": {},
   "source": [
    "### Djikstra big distance, big database"
   ]
  },
  {
   "cell_type": "code",
   "execution_count": 35,
   "metadata": {},
   "outputs": [],
   "source": [
    "with driver.session() as session:\n",
    "    query_time = session.execute_write(dijkstra_query, osmid_1_big, osmid_2_big)\n",
    "\n",
    "print(f\"query times: {query_time}\")"
   ]
  },
  {
   "cell_type": "code",
   "execution_count": null,
   "metadata": {},
   "outputs": [
    {
     "name": "stderr",
     "output_type": "stream",
     "text": [
      "Query:  47%|████▋     | 14/30 [10:02<11:16, 42.29s/it]"
     ]
    }
   ],
   "source": [
    "djikstra_query_times = []\n",
    "\n",
    "for _ in tqdm(range(query_number), desc=\"Query\"):\n",
    "    with driver.session() as session:\n",
    "        query_time = session.execute_write(dijkstra_query, osmid_1_big, osmid_2_big)\n",
    "        djikstra_query_times.append(query_time)\n",
    "    time.sleep(0.1)\n",
    "    \n",
    "print(f\"queries times: {djikstra_query_times}\")\n",
    "\n",
    "plot_query_times(djikstra_query_times)"
   ]
  },
  {
   "cell_type": "markdown",
   "metadata": {},
   "source": [
    "### Astar big distance, big database"
   ]
  },
  {
   "cell_type": "code",
   "execution_count": null,
   "metadata": {},
   "outputs": [],
   "source": [
    "with driver.session() as session:\n",
    "    query_time = session.execute_write(astar_query, osmid_1_big, osmid_2_big)\n",
    "\n",
    "print(f\"query times: {query_time} ms\")"
   ]
  },
  {
   "cell_type": "code",
   "execution_count": null,
   "metadata": {},
   "outputs": [],
   "source": [
    "astar_query_times = []\n",
    "\n",
    "for _ in tqdm(range(query_number), desc=\"Query\"):\n",
    "    with driver.session() as session:\n",
    "        query_time = session.execute_write(astar_query, osmid_1_big, osmid_2_big)\n",
    "        astar_query_times.append(query_time)\n",
    "    time.sleep(0.1)\n",
    "    \n",
    "print(f\"queries times: {astar_query_times}\")\n",
    "\n",
    "plot_query_times(astar_query_times)"
   ]
  },
  {
   "cell_type": "code",
   "execution_count": null,
   "metadata": {},
   "outputs": [],
   "source": []
  }
 ],
 "metadata": {
  "kernelspec": {
   "display_name": "venv",
   "language": "python",
   "name": "python3"
  },
  "language_info": {
   "codemirror_mode": {
    "name": "ipython",
    "version": 3
   },
   "file_extension": ".py",
   "mimetype": "text/x-python",
   "name": "python",
   "nbconvert_exporter": "python",
   "pygments_lexer": "ipython3",
   "version": "3.11.6"
  }
 },
 "nbformat": 4,
 "nbformat_minor": 2
}

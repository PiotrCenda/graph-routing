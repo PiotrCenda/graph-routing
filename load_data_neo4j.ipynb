{
 "cells": [
  {
   "cell_type": "code",
   "execution_count": 1,
   "id": "ff9920e7-9df4-41b2-b0a2-caed4a0df827",
   "metadata": {},
   "outputs": [],
   "source": [
    "import neo4j\n",
    "import pandas as pd\n",
    "import geopy.distance"
   ]
  },
  {
   "cell_type": "markdown",
   "id": "c8e062dc",
   "metadata": {},
   "source": [
    "### Search for good osmid pairs"
   ]
  },
  {
   "attachments": {},
   "cell_type": "markdown",
   "id": "75c11976-19d6-4284-aebf-a77c51311160",
   "metadata": {},
   "source": [
    "## Neo4j Import"
   ]
  },
  {
   "cell_type": "code",
   "execution_count": 4,
   "id": "57845fbe",
   "metadata": {},
   "outputs": [],
   "source": [
    "NEO4J_URI = \"bolt://localhost:7690\"\n",
    "NEO4J_USER = \"neo4j\"\n",
    "NEO4J_PASSWORD = \"graph-routing\"\n",
    "NEO4J_DATABASE = \"neo4j\"\n",
    "\n",
    "driver = neo4j.GraphDatabase.driver(NEO4J_URI, auth=(NEO4J_USER, NEO4J_PASSWORD), database=NEO4J_DATABASE)"
   ]
  },
  {
   "cell_type": "code",
   "execution_count": 5,
   "id": "0ae078ac-f626-4c1b-aa42-db18298bccf4",
   "metadata": {},
   "outputs": [],
   "source": [
    "clear_data_query = \"\"\"\n",
    "    MATCH (n) \n",
    "    CALL {\n",
    "        WITH n\n",
    "        DETACH DELETE n\n",
    "    } IN TRANSACTIONS OF 100000 ROWS\n",
    "\"\"\"\n",
    "\n",
    "clear_indexes_and_constrains = \"CALL apoc.schema.assert({}, {}, true) YIELD label, key RETURN *\"\n",
    "\n",
    "node_constraint_query = \"CREATE CONSTRAINT IF NOT EXISTS FOR (i:Intersection) REQUIRE i.osmid IS UNIQUE\"\n",
    "\n",
    "rel_index_query = \"CREATE INDEX IF NOT EXISTS FOR ()-[r:ROAD_SEGMENT]-() ON r.osmid\"\n",
    "\n",
    "# TODO: remember ro copy files to import folder in neo4j and change filenames in query\n",
    "\n",
    "nodes_csv_load = \"\"\"\n",
    "    LOAD CSV WITH HEADERS FROM \"file:///krakow_big/nodes_neo4j.csv\" AS row\n",
    "    CALL {\n",
    "        WITH row\n",
    "        MERGE (i:Intersection {osmid: toInteger(row.osmid)})\n",
    "        SET i.latitude = toFloat(row.y), \n",
    "            i.longitude = toFloat(row.x)\n",
    "    } IN TRANSACTIONS OF 100000 ROWS\n",
    "    RETURN COUNT(*) as total\n",
    "    \"\"\"\n",
    "    \n",
    "relationships_csv_load = \"\"\"\n",
    "    LOAD CSV WITH HEADERS FROM \"file:///krakow_big/relationships_neo4j.csv\" AS row\n",
    "    CALL {\n",
    "        WITH row\n",
    "        MATCH (from:Intersection {osmid: toInteger(row.source)})\n",
    "        MATCH (to:Intersection {osmid: toInteger(row.target)})\n",
    "        MERGE (from)-[r:ROAD_SEGMENT {osmid: toInteger(row.osmid)}]->(to)\n",
    "        SET r.length = toFloat(row.length)\n",
    "    } IN TRANSACTIONS OF 100000 ROWS\n",
    "    RETURN COUNT(*) AS total\n",
    "    \"\"\"\n"
   ]
  },
  {
   "cell_type": "code",
   "execution_count": 6,
   "metadata": {},
   "outputs": [],
   "source": [
    "def print_result(results):\n",
    "    result = [dict(i) for i in results]\n",
    "    print(result)\n",
    "    \n",
    "    result_all = results.consume()\n",
    "    print(f\"result_consumed_after: {result_all.result_consumed_after} ms\")\n",
    "    print(f\"result_available_after: {result_all.result_available_after} ms\\n\")"
   ]
  },
  {
   "cell_type": "code",
   "execution_count": 7,
   "id": "511e9fde",
   "metadata": {},
   "outputs": [],
   "source": [
    "def delete_database(tx):\n",
    "    results = tx.run(clear_data_query)\n",
    "    print_result(results)\n",
    "\n",
    "def clear_indexes(tx):\n",
    "    results = tx.run(clear_indexes_and_constrains)\n",
    "    print_result(results)"
   ]
  },
  {
   "cell_type": "code",
   "execution_count": 8,
   "id": "3272bd16-121e-4863-94b5-c201c579df78",
   "metadata": {},
   "outputs": [],
   "source": [
    "def create_constraints(tx):\n",
    "    results = tx.run(node_constraint_query)\n",
    "    print_result(results)\n",
    "\n",
    "    results = tx.run(rel_index_query)\n",
    "    print_result(results)"
   ]
  },
  {
   "cell_type": "markdown",
   "id": "3cf79421",
   "metadata": {},
   "source": [
    "### Clear database"
   ]
  },
  {
   "cell_type": "code",
   "execution_count": 10,
   "id": "a662a8d7",
   "metadata": {},
   "outputs": [
    {
     "name": "stderr",
     "output_type": "stream",
     "text": [
      "Transaction failed and will be retried in 0.9289004472081769s (The allocation of an extra 96.0 MiB would use more than the limit 3.5 GiB. Currently using 3.4 GiB. dbms.memory.transaction.total.max threshold reached)\n",
      "Transaction failed and will be retried in 1.7834476141724305s (The allocation of an extra 96.0 MiB would use more than the limit 3.5 GiB. Currently using 3.4 GiB. dbms.memory.transaction.total.max threshold reached)\n"
     ]
    },
    {
     "ename": "DatabaseError",
     "evalue": "{code: Neo.DatabaseError.Statement.ExecutionFailed} {message: Java heap space}",
     "output_type": "error",
     "traceback": [
      "\u001b[0;31m---------------------------------------------------------------------------\u001b[0m",
      "\u001b[0;31mDatabaseError\u001b[0m                             Traceback (most recent call last)",
      "\u001b[1;32m/home/pcend/Piotr/kod/lisboa-routing/load_data_neo4j.ipynb Cell 10\u001b[0m line \u001b[0;36m2\n\u001b[1;32m      <a href='vscode-notebook-cell:/home/pcend/Piotr/kod/lisboa-routing/load_data_neo4j.ipynb#X14sZmlsZQ%3D%3D?line=0'>1</a>\u001b[0m \u001b[39mwith\u001b[39;00m driver\u001b[39m.\u001b[39msession() \u001b[39mas\u001b[39;00m session:\n\u001b[0;32m----> <a href='vscode-notebook-cell:/home/pcend/Piotr/kod/lisboa-routing/load_data_neo4j.ipynb#X14sZmlsZQ%3D%3D?line=1'>2</a>\u001b[0m     session\u001b[39m.\u001b[39;49mexecute_write(delete_database)\n\u001b[1;32m      <a href='vscode-notebook-cell:/home/pcend/Piotr/kod/lisboa-routing/load_data_neo4j.ipynb#X14sZmlsZQ%3D%3D?line=3'>4</a>\u001b[0m \u001b[39mwith\u001b[39;00m driver\u001b[39m.\u001b[39msession() \u001b[39mas\u001b[39;00m session:\n\u001b[1;32m      <a href='vscode-notebook-cell:/home/pcend/Piotr/kod/lisboa-routing/load_data_neo4j.ipynb#X14sZmlsZQ%3D%3D?line=4'>5</a>\u001b[0m     session\u001b[39m.\u001b[39mexecute_write(clear_indexes)\n",
      "File \u001b[0;32m~/Piotr/kod/lisboa-routing/venv/lib/python3.11/site-packages/neo4j/_sync/work/session.py:752\u001b[0m, in \u001b[0;36mSession.execute_write\u001b[0;34m(self, transaction_function, *args, **kwargs)\u001b[0m\n\u001b[1;32m    702\u001b[0m \u001b[39mdef\u001b[39;00m \u001b[39mexecute_write\u001b[39m(\n\u001b[1;32m    703\u001b[0m     \u001b[39mself\u001b[39m,\n\u001b[1;32m    704\u001b[0m     transaction_function: t\u001b[39m.\u001b[39mCallable[\n\u001b[0;32m   (...)\u001b[0m\n\u001b[1;32m    707\u001b[0m     \u001b[39m*\u001b[39margs: _P\u001b[39m.\u001b[39margs,  \u001b[39m*\u001b[39m\u001b[39m*\u001b[39mkwargs: _P\u001b[39m.\u001b[39mkwargs\n\u001b[1;32m    708\u001b[0m ) \u001b[39m-\u001b[39m\u001b[39m>\u001b[39m _R:\n\u001b[1;32m    709\u001b[0m \u001b[39m    \u001b[39m\u001b[39m\"\"\"Execute a unit of work in a managed write transaction.\u001b[39;00m\n\u001b[1;32m    710\u001b[0m \n\u001b[1;32m    711\u001b[0m \u001b[39m    .. note::\u001b[39;00m\n\u001b[0;32m   (...)\u001b[0m\n\u001b[1;32m    750\u001b[0m \u001b[39m    .. versionadded:: 5.0\u001b[39;00m\n\u001b[1;32m    751\u001b[0m \u001b[39m    \"\"\"\u001b[39;00m\n\u001b[0;32m--> 752\u001b[0m     \u001b[39mreturn\u001b[39;00m \u001b[39mself\u001b[39;49m\u001b[39m.\u001b[39;49m_run_transaction(\n\u001b[1;32m    753\u001b[0m         WRITE_ACCESS, TelemetryAPI\u001b[39m.\u001b[39;49mTX_FUNC,\n\u001b[1;32m    754\u001b[0m         transaction_function, args, kwargs\n\u001b[1;32m    755\u001b[0m     )\n",
      "File \u001b[0;32m~/Piotr/kod/lisboa-routing/venv/lib/python3.11/site-packages/neo4j/_sync/work/session.py:550\u001b[0m, in \u001b[0;36mSession._run_transaction\u001b[0;34m(self, access_mode, api, transaction_function, args, kwargs)\u001b[0m\n\u001b[1;32m    548\u001b[0m tx \u001b[39m=\u001b[39m \u001b[39mself\u001b[39m\u001b[39m.\u001b[39m_transaction\n\u001b[1;32m    549\u001b[0m \u001b[39mtry\u001b[39;00m:\n\u001b[0;32m--> 550\u001b[0m     result \u001b[39m=\u001b[39m transaction_function(tx, \u001b[39m*\u001b[39;49margs, \u001b[39m*\u001b[39;49m\u001b[39m*\u001b[39;49mkwargs)\n\u001b[1;32m    551\u001b[0m \u001b[39mexcept\u001b[39;00m asyncio\u001b[39m.\u001b[39mCancelledError:\n\u001b[1;32m    552\u001b[0m     \u001b[39m# if cancellation callback has not been called yet:\u001b[39;00m\n\u001b[1;32m    553\u001b[0m     \u001b[39mif\u001b[39;00m \u001b[39mself\u001b[39m\u001b[39m.\u001b[39m_transaction \u001b[39mis\u001b[39;00m \u001b[39mnot\u001b[39;00m \u001b[39mNone\u001b[39;00m:\n",
      "\u001b[1;32m/home/pcend/Piotr/kod/lisboa-routing/load_data_neo4j.ipynb Cell 10\u001b[0m line \u001b[0;36m2\n\u001b[1;32m      <a href='vscode-notebook-cell:/home/pcend/Piotr/kod/lisboa-routing/load_data_neo4j.ipynb#X14sZmlsZQ%3D%3D?line=0'>1</a>\u001b[0m \u001b[39mdef\u001b[39;00m \u001b[39mdelete_database\u001b[39m(tx):\n\u001b[0;32m----> <a href='vscode-notebook-cell:/home/pcend/Piotr/kod/lisboa-routing/load_data_neo4j.ipynb#X14sZmlsZQ%3D%3D?line=1'>2</a>\u001b[0m     results \u001b[39m=\u001b[39m tx\u001b[39m.\u001b[39;49mrun(clear_data_query)\n\u001b[1;32m      <a href='vscode-notebook-cell:/home/pcend/Piotr/kod/lisboa-routing/load_data_neo4j.ipynb#X14sZmlsZQ%3D%3D?line=2'>3</a>\u001b[0m     print_result(results)\n",
      "File \u001b[0;32m~/Piotr/kod/lisboa-routing/venv/lib/python3.11/site-packages/neo4j/_sync/work/transaction.py:164\u001b[0m, in \u001b[0;36mTransactionBase.run\u001b[0;34m(self, query, parameters, **kwparameters)\u001b[0m\n\u001b[1;32m    161\u001b[0m \u001b[39mself\u001b[39m\u001b[39m.\u001b[39m_results\u001b[39m.\u001b[39mappend(result)\n\u001b[1;32m    163\u001b[0m parameters \u001b[39m=\u001b[39m \u001b[39mdict\u001b[39m(parameters \u001b[39mor\u001b[39;00m {}, \u001b[39m*\u001b[39m\u001b[39m*\u001b[39mkwparameters)\n\u001b[0;32m--> 164\u001b[0m result\u001b[39m.\u001b[39;49m_tx_ready_run(query, parameters)\n\u001b[1;32m    166\u001b[0m \u001b[39mreturn\u001b[39;00m result\n",
      "File \u001b[0;32m~/Piotr/kod/lisboa-routing/venv/lib/python3.11/site-packages/neo4j/_sync/work/result.py:116\u001b[0m, in \u001b[0;36mResult._tx_ready_run\u001b[0;34m(self, query, parameters)\u001b[0m\n\u001b[1;32m    112\u001b[0m \u001b[39mdef\u001b[39;00m \u001b[39m_tx_ready_run\u001b[39m(\u001b[39mself\u001b[39m, query, parameters):\n\u001b[1;32m    113\u001b[0m     \u001b[39m# BEGIN+RUN does not carry any extra on the RUN message.\u001b[39;00m\n\u001b[1;32m    114\u001b[0m     \u001b[39m# BEGIN {extra}\u001b[39;00m\n\u001b[1;32m    115\u001b[0m     \u001b[39m# RUN \"query\" {parameters} {extra}\u001b[39;00m\n\u001b[0;32m--> 116\u001b[0m     \u001b[39mself\u001b[39;49m\u001b[39m.\u001b[39;49m_run(query, parameters, \u001b[39mNone\u001b[39;49;00m, \u001b[39mNone\u001b[39;49;00m, \u001b[39mNone\u001b[39;49;00m, \u001b[39mNone\u001b[39;49;00m, \u001b[39mNone\u001b[39;49;00m, \u001b[39mNone\u001b[39;49;00m)\n",
      "File \u001b[0;32m~/Piotr/kod/lisboa-routing/venv/lib/python3.11/site-packages/neo4j/_sync/work/result.py:166\u001b[0m, in \u001b[0;36mResult._run\u001b[0;34m(self, query, parameters, db, imp_user, access_mode, bookmarks, notifications_min_severity, notifications_disabled_categories)\u001b[0m\n\u001b[1;32m    164\u001b[0m \u001b[39mself\u001b[39m\u001b[39m.\u001b[39m_pull()\n\u001b[1;32m    165\u001b[0m \u001b[39mself\u001b[39m\u001b[39m.\u001b[39m_connection\u001b[39m.\u001b[39msend_all()\n\u001b[0;32m--> 166\u001b[0m \u001b[39mself\u001b[39;49m\u001b[39m.\u001b[39;49m_attach()\n",
      "File \u001b[0;32m~/Piotr/kod/lisboa-routing/venv/lib/python3.11/site-packages/neo4j/_sync/work/result.py:274\u001b[0m, in \u001b[0;36mResult._attach\u001b[0;34m(self)\u001b[0m\n\u001b[1;32m    272\u001b[0m \u001b[39mif\u001b[39;00m \u001b[39mself\u001b[39m\u001b[39m.\u001b[39m_exhausted \u001b[39mis\u001b[39;00m \u001b[39mFalse\u001b[39;00m:\n\u001b[1;32m    273\u001b[0m     \u001b[39mwhile\u001b[39;00m \u001b[39mself\u001b[39m\u001b[39m.\u001b[39m_attached \u001b[39mis\u001b[39;00m \u001b[39mFalse\u001b[39;00m:\n\u001b[0;32m--> 274\u001b[0m         \u001b[39mself\u001b[39;49m\u001b[39m.\u001b[39;49m_connection\u001b[39m.\u001b[39;49mfetch_message()\n",
      "File \u001b[0;32m~/Piotr/kod/lisboa-routing/venv/lib/python3.11/site-packages/neo4j/_sync/io/_common.py:180\u001b[0m, in \u001b[0;36mConnectionErrorHandler.__getattr__.<locals>.outer.<locals>.inner\u001b[0;34m(*args, **kwargs)\u001b[0m\n\u001b[1;32m    178\u001b[0m \u001b[39mdef\u001b[39;00m \u001b[39minner\u001b[39m(\u001b[39m*\u001b[39margs, \u001b[39m*\u001b[39m\u001b[39m*\u001b[39mkwargs):\n\u001b[1;32m    179\u001b[0m     \u001b[39mtry\u001b[39;00m:\n\u001b[0;32m--> 180\u001b[0m         func(\u001b[39m*\u001b[39;49margs, \u001b[39m*\u001b[39;49m\u001b[39m*\u001b[39;49mkwargs)\n\u001b[1;32m    181\u001b[0m     \u001b[39mexcept\u001b[39;00m (Neo4jError, ServiceUnavailable, SessionExpired) \u001b[39mas\u001b[39;00m exc:\n\u001b[1;32m    182\u001b[0m         \u001b[39massert\u001b[39;00m \u001b[39mnot\u001b[39;00m asyncio\u001b[39m.\u001b[39miscoroutinefunction(\u001b[39mself\u001b[39m\u001b[39m.\u001b[39m__on_error)\n",
      "File \u001b[0;32m~/Piotr/kod/lisboa-routing/venv/lib/python3.11/site-packages/neo4j/_sync/io/_bolt.py:851\u001b[0m, in \u001b[0;36mBolt.fetch_message\u001b[0;34m(self)\u001b[0m\n\u001b[1;32m    847\u001b[0m \u001b[39m# Receive exactly one message\u001b[39;00m\n\u001b[1;32m    848\u001b[0m tag, fields \u001b[39m=\u001b[39m \u001b[39mself\u001b[39m\u001b[39m.\u001b[39minbox\u001b[39m.\u001b[39mpop(\n\u001b[1;32m    849\u001b[0m     hydration_hooks\u001b[39m=\u001b[39m\u001b[39mself\u001b[39m\u001b[39m.\u001b[39mresponses[\u001b[39m0\u001b[39m]\u001b[39m.\u001b[39mhydration_hooks\n\u001b[1;32m    850\u001b[0m )\n\u001b[0;32m--> 851\u001b[0m res \u001b[39m=\u001b[39m \u001b[39mself\u001b[39;49m\u001b[39m.\u001b[39;49m_process_message(tag, fields)\n\u001b[1;32m    852\u001b[0m \u001b[39mself\u001b[39m\u001b[39m.\u001b[39midle_since \u001b[39m=\u001b[39m perf_counter()\n\u001b[1;32m    853\u001b[0m \u001b[39mreturn\u001b[39;00m res\n",
      "File \u001b[0;32m~/Piotr/kod/lisboa-routing/venv/lib/python3.11/site-packages/neo4j/_sync/io/_bolt5.py:376\u001b[0m, in \u001b[0;36mBolt5x0._process_message\u001b[0;34m(self, tag, fields)\u001b[0m\n\u001b[1;32m    374\u001b[0m \u001b[39mself\u001b[39m\u001b[39m.\u001b[39m_server_state_manager\u001b[39m.\u001b[39mstate \u001b[39m=\u001b[39m \u001b[39mself\u001b[39m\u001b[39m.\u001b[39mbolt_states\u001b[39m.\u001b[39mFAILED\n\u001b[1;32m    375\u001b[0m \u001b[39mtry\u001b[39;00m:\n\u001b[0;32m--> 376\u001b[0m     response\u001b[39m.\u001b[39;49mon_failure(summary_metadata \u001b[39mor\u001b[39;49;00m {})\n\u001b[1;32m    377\u001b[0m \u001b[39mexcept\u001b[39;00m (ServiceUnavailable, DatabaseUnavailable):\n\u001b[1;32m    378\u001b[0m     \u001b[39mif\u001b[39;00m \u001b[39mself\u001b[39m\u001b[39m.\u001b[39mpool:\n",
      "File \u001b[0;32m~/Piotr/kod/lisboa-routing/venv/lib/python3.11/site-packages/neo4j/_sync/io/_common.py:247\u001b[0m, in \u001b[0;36mResponse.on_failure\u001b[0;34m(self, metadata)\u001b[0m\n\u001b[1;32m    245\u001b[0m handler \u001b[39m=\u001b[39m \u001b[39mself\u001b[39m\u001b[39m.\u001b[39mhandlers\u001b[39m.\u001b[39mget(\u001b[39m\"\u001b[39m\u001b[39mon_summary\u001b[39m\u001b[39m\"\u001b[39m)\n\u001b[1;32m    246\u001b[0m Util\u001b[39m.\u001b[39mcallback(handler)\n\u001b[0;32m--> 247\u001b[0m \u001b[39mraise\u001b[39;00m Neo4jError\u001b[39m.\u001b[39mhydrate(\u001b[39m*\u001b[39m\u001b[39m*\u001b[39mmetadata)\n",
      "\u001b[0;31mDatabaseError\u001b[0m: {code: Neo.DatabaseError.Statement.ExecutionFailed} {message: Java heap space}"
     ]
    }
   ],
   "source": [
    "with driver.session() as session:\n",
    "    session.execute_write(delete_database)\n",
    "    \n",
    "with driver.session() as session:\n",
    "    session.execute_write(clear_indexes)"
   ]
  },
  {
   "cell_type": "markdown",
   "id": "a5661f52",
   "metadata": {},
   "source": [
    "### Create constraints"
   ]
  },
  {
   "cell_type": "code",
   "execution_count": 12,
   "id": "5a9b4106",
   "metadata": {},
   "outputs": [
    {
     "name": "stdout",
     "output_type": "stream",
     "text": [
      "[]\n",
      "result_consumed_after: 0 ms\n",
      "result_available_after: 46 ms\n",
      "\n",
      "[]\n",
      "result_consumed_after: 0 ms\n",
      "result_available_after: 16 ms\n",
      "\n"
     ]
    }
   ],
   "source": [
    "with driver.session() as session:\n",
    "    session.execute_write(create_constraints)"
   ]
  },
  {
   "cell_type": "markdown",
   "id": "0a49ae6f",
   "metadata": {},
   "source": [
    "### Load data"
   ]
  },
  {
   "cell_type": "code",
   "execution_count": 13,
   "metadata": {},
   "outputs": [
    {
     "name": "stdout",
     "output_type": "stream",
     "text": [
      "[{'total': 31096557}]\n",
      "result_consumed_after: 1666588 ms\n",
      "result_available_after: 261 ms\n",
      "\n"
     ]
    }
   ],
   "source": [
    "with driver.session() as session:\n",
    "    results = session.run(nodes_csv_load)\n",
    "    print_result(results)"
   ]
  },
  {
   "cell_type": "code",
   "execution_count": 9,
   "metadata": {},
   "outputs": [
    {
     "name": "stdout",
     "output_type": "stream",
     "text": [
      "[{'total': 65135420}]\n",
      "result_consumed_after: 3179641 ms\n",
      "result_available_after: 1013 ms\n",
      "\n"
     ]
    }
   ],
   "source": [
    "with driver.session() as session:\n",
    "    results = session.run(relationships_csv_load)\n",
    "    print_result(results)"
   ]
  },
  {
   "cell_type": "markdown",
   "id": "0928d25b",
   "metadata": {},
   "source": [
    "### Search queries"
   ]
  },
  {
   "cell_type": "markdown",
   "metadata": {},
   "source": [
    "```\n",
    "EXPLAIN PROFILE\n",
    "```"
   ]
  },
  {
   "cell_type": "code",
   "execution_count": 7,
   "id": "c61936a0",
   "metadata": {},
   "outputs": [],
   "source": [
    "def dijkstra_query(tx, osmid_1, osmid_2):\n",
    "    dijkstra_query = f\"\"\"\n",
    "        MATCH (source:Intersection {{osmid: {osmid_1}}}) \n",
    "        MATCH (target:Intersection {{osmid: {osmid_2}}})\n",
    "        CALL apoc.algo.dijkstra(source, target, \"\", \"length\")\n",
    "        YIELD path, weight\n",
    "        RETURN path, weight\n",
    "        \"\"\"\n",
    "    results = tx.run(dijkstra_query)\n",
    "    print_result(results)"
   ]
  },
  {
   "cell_type": "code",
   "execution_count": 8,
   "metadata": {},
   "outputs": [],
   "source": [
    "def astar_query(tx, osmid_1, osmid_2):\n",
    "    astar_query = f\"\"\"\n",
    "        MATCH (source:Intersection {{osmid: {osmid_1}}}) \n",
    "        MATCH (target:Intersection {{osmid: {osmid_2}}})\n",
    "        CALL apoc.algo.aStar(source, target, \"\", \"length\", \"latitude\", \"longitude\")\n",
    "        YIELD path, weight\n",
    "        RETURN path, weight\n",
    "        \"\"\"\n",
    "    results = tx.run(astar_query)\n",
    "    print_result(results)"
   ]
  },
  {
   "cell_type": "code",
   "execution_count": 35,
   "metadata": {},
   "outputs": [],
   "source": [
    "gdf_nodes = pd.read_csv(\"./data/krakow_nodes_neo4j.csv\")"
   ]
  },
  {
   "cell_type": "code",
   "execution_count": 216,
   "metadata": {},
   "outputs": [
    {
     "name": "stdout",
     "output_type": "stream",
     "text": [
      "osmid_1: 10298662254.0, osmid_2: 2139306598.0, distance: 24.768543728456766 km\n"
     ]
    }
   ],
   "source": [
    "# two random osmid\n",
    "start_and_finish = gdf_nodes.sample(2)\n",
    "\n",
    "osmid_1 = start_and_finish.iloc[0][\"osmid\"]\n",
    "osmid_2 = start_and_finish.iloc[1][\"osmid\"]\n",
    "\n",
    "coords_1 = start_and_finish.iloc[0][\"y\"], start_and_finish.iloc[0][\"x\"]\n",
    "coords_2 = start_and_finish.iloc[1][\"y\"], start_and_finish.iloc[1][\"x\"]\n",
    "\n",
    "print(f\"osmid_1: {osmid_1}, osmid_2: {osmid_2}, distance: {geopy.distance.distance(coords_1, coords_2).km} km\")"
   ]
  },
  {
   "cell_type": "code",
   "execution_count": 19,
   "metadata": {},
   "outputs": [],
   "source": [
    "# zakamycze, betel\n",
    "# node_nr_1 = 356926768\n",
    "# node_nr_2 = 2104495834\n",
    "\n",
    "# chrzanów, brzesko\n",
    "node_nr_1 = 552992131\n",
    "node_nr_2 = 6191458019"
   ]
  },
  {
   "cell_type": "code",
   "execution_count": 22,
   "id": "b2c1f323",
   "metadata": {},
   "outputs": [],
   "source": [
    "with driver.session() as session:\n",
    "    session.execute_write(dijkstra_query, node_nr_1, node_nr_2)"
   ]
  },
  {
   "cell_type": "code",
   "execution_count": 21,
   "metadata": {},
   "outputs": [
    {
     "name": "stdout",
     "output_type": "stream",
     "text": [
      "[]\n",
      "result_consumed_after: 13237 ms\n",
      "result_available_after: 19 ms\n",
      "\n"
     ]
    }
   ],
   "source": [
    "with driver.session() as session:\n",
    "    session.execute_write(astar_query, node_nr_1, node_nr_2)"
   ]
  },
  {
   "cell_type": "markdown",
   "id": "a3724c82",
   "metadata": {},
   "source": [
    "### Add addresses - TODO"
   ]
  },
  {
   "cell_type": "code",
   "execution_count": null,
   "id": "64f680a2-63bd-4559-967b-2eff53f6b39f",
   "metadata": {},
   "outputs": [],
   "source": [
    "# We'll use apoc.load.json to import a JSON file of address data\n",
    "\n",
    "address_constraint_query = \"CREATE CONSTRAINT IF NOT EXISTS FOR (a:Address) REQUIRE a.id IS UNIQUE\"\n",
    "\n",
    "add_addresses_query = \"\"\"\n",
    "CALL apoc.periodic.iterate(\n",
    "  'CALL apoc.load.json(\"/home/pcend/Piotr/kod/lisboa-routing/data/lisboa.geojson\") YIELD value',\n",
    "  'MERGE (a:Address {id: value.properties.id})\n",
    "SET a.location = \n",
    "  point(\n",
    "      {latitude: value.geometry.coordinates[1], longitude: value.geometry.coordinates[0]}),\n",
    "    a.full_address = value.properties.number + \" \" + value.properties.street + \" \" + value.properties.city + \", CA \" + value.properties.postcode\n",
    "\n",
    "SET a += value.properties',\n",
    "  {batchSize:10000, parallel:true})\n",
    "\"\"\"\n",
    "\n",
    "# Next, connect each address to the road network at the nearest intersection\n",
    "\n",
    "near_intersection_query = \"\"\"\n",
    "CALL apoc.periodic.iterate(\n",
    "  'MATCH (p:Address) WHERE NOT EXISTS ((p)-[:NEAREST_INTERSECTION]->(:Intersection)) RETURN p',\n",
    "  'CALL {\n",
    "  WITH p\n",
    "  MATCH (i:Intersection)\n",
    "  USING INDEX i:Intersection(location)\n",
    "  WHERE point.distance(i.location, p.location) < 200\n",
    "\n",
    "  WITH i\n",
    "  ORDER BY point.distance(p.location, i.location) ASC \n",
    "  LIMIT 1\n",
    "  RETURN i\n",
    "}\n",
    "WITH p, i\n",
    "\n",
    "MERGE (p)-[r:NEAREST_INTERSECTION]->(i)\n",
    "SET r.length = point.distance(p.location, i.location)\n",
    "RETURN COUNT(p)',\n",
    "  {batchSize:1000, parallel:false})\n",
    "\"\"\"\n",
    "\n",
    "# Create a full text index to enable search in our web app\n",
    "\n",
    "full_text_query = \"CREATE FULLTEXT INDEX search_index IF NOT EXISTS FOR (p:PointOfInterest|Address) ON EACH [p.name, p.full_address]\""
   ]
  },
  {
   "cell_type": "code",
   "execution_count": null,
   "id": "4958ea56-b793-4b79-ac71-9d01c8c482f7",
   "metadata": {},
   "outputs": [],
   "source": [
    "def enrich_addresses(tx):\n",
    "    results = tx.run(add_addresses_query)        \n",
    "    results = tx.run(near_intersection_query)\n"
   ]
  },
  {
   "cell_type": "code",
   "execution_count": null,
   "id": "6c1fa54d-d1fd-4aad-bf8f-25f2d4a2225b",
   "metadata": {},
   "outputs": [],
   "source": [
    "# with driver.session() as session:\n",
    "#     session.execute_write(enrich_addresses)"
   ]
  },
  {
   "cell_type": "code",
   "execution_count": null,
   "id": "200d54d6-9f92-42e6-bf2f-e357674352c5",
   "metadata": {},
   "outputs": [],
   "source": [
    "# with driver.session() as session:\n",
    "#     results = session.execute_write(lambda tx: tx.run(full_text_query))\n"
   ]
  },
  {
   "cell_type": "markdown",
   "id": "12c48399",
   "metadata": {},
   "source": [
    "### Query with address"
   ]
  },
  {
   "cell_type": "markdown",
   "id": "063801bb-ed79-4107-8f0f-71d76474f59e",
   "metadata": {},
   "source": [
    "```\n",
    "MATCH (a:Address)-[:NEAREST_INTERSECTION]->(source:Intersection)\n",
    "WHERE a.full_address CONTAINS \"410 E 5TH AVE SAN MATEO, CA\"\n",
    "MATCH \n",
    "  (poi:Address)-[:NEAREST_INTERSECTION]->(dest:Intersection) \n",
    "WHERE poi.full_address CONTAINS \"111 5TH AVE\"\n",
    "CALL apoc.algo.dijkstra(source, dest, \"ROAD_SEGMENT\", \"length\") \n",
    "YIELD weight, path\n",
    "RETURN **\n",
    "```"
   ]
  },
  {
   "cell_type": "markdown",
   "id": "31f6e5ee-0749-4975-a61c-61e97c472f7d",
   "metadata": {},
   "source": [
    "\n",
    "```\n",
    "CALL db.index.fulltext.queryNodes(\"search_index\", $searchString) \n",
    "YIELD node, score\n",
    "RETURN coalesce(node.name, node.full_address) AS value, score, labels(node)[0] AS label, node.id AS id\n",
    "ORDER BY score DESC LIMIT 25\n",
    "```\n",
    "\n",
    "```\n",
    "MATCH (to {id: $dest})-[:NEAREST_INTERSECTION]->(source:Intersection) \n",
    "MATCH (from {id: $source})-[:NEAREST_INTERSECTION]->(target:Intersection)\n",
    "CALL apoc.algo.dijkstra(source, target, 'ROAD_SEGMENT', 'length')\n",
    "YIELD path, weight\n",
    "RETURN [n in nodes(path) | [n.location.latitude, n.location.longitude]] AS route\n",
    "```\n"
   ]
  }
 ],
 "metadata": {
  "kernelspec": {
   "display_name": "Python 3 (ipykernel)",
   "language": "python",
   "name": "python3"
  },
  "language_info": {
   "codemirror_mode": {
    "name": "ipython",
    "version": 3
   },
   "file_extension": ".py",
   "mimetype": "text/x-python",
   "name": "python",
   "nbconvert_exporter": "python",
   "pygments_lexer": "ipython3",
   "version": "3.11.6"
  }
 },
 "nbformat": 4,
 "nbformat_minor": 5
}

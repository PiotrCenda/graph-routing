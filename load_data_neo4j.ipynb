{
 "cells": [
  {
   "cell_type": "code",
   "execution_count": 1,
   "id": "ff9920e7-9df4-41b2-b0a2-caed4a0df827",
   "metadata": {},
   "outputs": [],
   "source": [
    "import neo4j\n",
    "import pandas as pd\n",
    "import geopy.distance"
   ]
  },
  {
   "cell_type": "markdown",
   "id": "c8e062dc",
   "metadata": {},
   "source": [
    "### Search for good osmid pairs"
   ]
  },
  {
   "cell_type": "code",
   "execution_count": 2,
   "id": "fb74b163",
   "metadata": {},
   "outputs": [],
   "source": [
    "# Node 1 - zakamycze\n",
    "node_nr_1 = 356926768"
   ]
  },
  {
   "cell_type": "code",
   "execution_count": 3,
   "id": "b28b5530",
   "metadata": {},
   "outputs": [],
   "source": [
    "# Node 2 - betel\n",
    "node_nr_2 = 2104495834"
   ]
  },
  {
   "attachments": {},
   "cell_type": "markdown",
   "id": "75c11976-19d6-4284-aebf-a77c51311160",
   "metadata": {},
   "source": [
    "## Neo4j Import"
   ]
  },
  {
   "cell_type": "code",
   "execution_count": 4,
   "id": "57845fbe",
   "metadata": {},
   "outputs": [],
   "source": [
    "NEO4J_URI = \"bolt://localhost:7690\"\n",
    "NEO4J_USER = \"neo4j\"\n",
    "NEO4J_PASSWORD = \"graph-routing\"\n",
    "NEO4J_DATABASE = \"neo4j\"\n",
    "\n",
    "driver = neo4j.GraphDatabase.driver(NEO4J_URI, auth=(NEO4J_USER, NEO4J_PASSWORD), database=NEO4J_DATABASE)"
   ]
  },
  {
   "cell_type": "code",
   "execution_count": 27,
   "id": "0ae078ac-f626-4c1b-aa42-db18298bccf4",
   "metadata": {},
   "outputs": [],
   "source": [
    "clear_data_query = \"MATCH (n) DETACH DELETE n\"\n",
    "\n",
    "clear_indexes_and_constrains = \"CALL apoc.schema.assert({}, {}, true) YIELD label, key RETURN *\"\n",
    "\n",
    "node_constraint_query = \"CREATE CONSTRAINT IF NOT EXISTS FOR (i:Intersection) REQUIRE i.osmid IS UNIQUE\"\n",
    "\n",
    "rel_index_query = \"CREATE INDEX IF NOT EXISTS FOR ()-[r:ROAD_SEGMENT]-() ON r.osmid\"\n",
    "\n",
    "# TODO: remember ro copy files to import folder in neo4j and change filenames in query\n",
    "\n",
    "nodes_csv_load = \"\"\"\n",
    "    LOAD CSV WITH HEADERS FROM \n",
    "    \"file:///nodes_neo4j.csv\" AS row\n",
    "    WITH row WHERE row.osmid IS NOT NULL\n",
    "    MERGE (i:Intersection {osmid: toInteger(row.osmid)})\n",
    "    SET i.latitude = toFloat(row.y), \n",
    "        i.longitude = toFloat(row.x)\n",
    "    RETURN COUNT(*) as total\n",
    "    \"\"\"\n",
    "    \n",
    "relationships_csv_load = \"\"\"\n",
    "    LOAD CSV WITH HEADERS FROM \n",
    "    \"file:///relationships_neo4j.csv\" AS row\n",
    "    MATCH (from:Intersection {osmid: toInteger(row.source)})\n",
    "    MATCH (to:Intersection {osmid: toInteger(row.target)})\n",
    "    MERGE (from)-[r:ROAD_SEGMENT {osmid: toInteger(row.osmid)}]->(to)\n",
    "    SET r.length = toFloat(row.length)\n",
    "    RETURN COUNT(*) AS total\n",
    "    \"\"\"\n"
   ]
  },
  {
   "cell_type": "code",
   "execution_count": 28,
   "metadata": {},
   "outputs": [],
   "source": [
    "def print_result(results):\n",
    "    result = [dict(i) for i in results]\n",
    "    print(result)\n",
    "    \n",
    "    result_all = results.consume()\n",
    "    print(f\"result_consumed_after: {result_all.result_consumed_after} ms\")\n",
    "    print(f\"result_available_after: {result_all.result_available_after} ms\\n\")"
   ]
  },
  {
   "cell_type": "code",
   "execution_count": 29,
   "id": "511e9fde",
   "metadata": {},
   "outputs": [],
   "source": [
    "def delete_database(tx):\n",
    "    results = tx.run(clear_data_query)\n",
    "    print_result(results)\n",
    "\n",
    "def clear_indexes(tx):\n",
    "    results = tx.run(clear_indexes_and_constrains)\n",
    "    print_result(results)"
   ]
  },
  {
   "cell_type": "code",
   "execution_count": 30,
   "id": "3272bd16-121e-4863-94b5-c201c579df78",
   "metadata": {},
   "outputs": [],
   "source": [
    "def create_constraints(tx):\n",
    "    results = tx.run(node_constraint_query)\n",
    "    print_result(results)\n",
    "\n",
    "    results = tx.run(rel_index_query)\n",
    "    print_result(results)"
   ]
  },
  {
   "cell_type": "code",
   "execution_count": 31,
   "metadata": {},
   "outputs": [],
   "source": [
    "def load_nodes(tx):\n",
    "    results = tx.run(nodes_csv_load)\n",
    "    print_result(results)"
   ]
  },
  {
   "cell_type": "code",
   "execution_count": 32,
   "metadata": {},
   "outputs": [],
   "source": [
    "def load_relationshpis(tx):\n",
    "    results = tx.run(relationships_csv_load)\n",
    "    print_result(results)"
   ]
  },
  {
   "cell_type": "markdown",
   "id": "3cf79421",
   "metadata": {},
   "source": [
    "### Clear database"
   ]
  },
  {
   "cell_type": "code",
   "execution_count": 33,
   "id": "a662a8d7",
   "metadata": {},
   "outputs": [
    {
     "name": "stdout",
     "output_type": "stream",
     "text": [
      "[]\n",
      "result_consumed_after: 0 ms\n",
      "result_available_after: 676 ms\n",
      "\n",
      "[{'key': 'osmid', 'label': 'ROAD_SEGMENT'}, {'key': 'osmid', 'label': 'Intersection'}]\n",
      "result_consumed_after: 4 ms\n",
      "result_available_after: 38 ms\n",
      "\n"
     ]
    }
   ],
   "source": [
    "with driver.session() as session:\n",
    "    session.execute_write(delete_database)\n",
    "    \n",
    "with driver.session() as session:\n",
    "    session.execute_write(clear_indexes)"
   ]
  },
  {
   "cell_type": "markdown",
   "id": "a5661f52",
   "metadata": {},
   "source": [
    "### Create constraints"
   ]
  },
  {
   "cell_type": "code",
   "execution_count": 34,
   "id": "5a9b4106",
   "metadata": {},
   "outputs": [
    {
     "name": "stdout",
     "output_type": "stream",
     "text": [
      "[]\n",
      "result_consumed_after: 0 ms\n",
      "result_available_after: 22 ms\n",
      "\n",
      "[]\n",
      "result_consumed_after: 0 ms\n",
      "result_available_after: 11 ms\n",
      "\n"
     ]
    }
   ],
   "source": [
    "with driver.session() as session:\n",
    "    session.execute_write(create_constraints)"
   ]
  },
  {
   "cell_type": "markdown",
   "id": "0a49ae6f",
   "metadata": {},
   "source": [
    "### Load data"
   ]
  },
  {
   "cell_type": "code",
   "execution_count": 35,
   "metadata": {},
   "outputs": [
    {
     "name": "stdout",
     "output_type": "stream",
     "text": [
      "[{'total': 333120}]\n",
      "result_consumed_after: 5382 ms\n",
      "result_available_after: 142 ms\n",
      "\n"
     ]
    }
   ],
   "source": [
    "with driver.session() as session:\n",
    "    session.execute_write(load_nodes)"
   ]
  },
  {
   "cell_type": "code",
   "execution_count": 36,
   "metadata": {},
   "outputs": [
    {
     "name": "stdout",
     "output_type": "stream",
     "text": [
      "[{'total': 721628}]\n",
      "result_consumed_after: 21499 ms\n",
      "result_available_after: 187 ms\n",
      "\n"
     ]
    }
   ],
   "source": [
    "with driver.session() as session:\n",
    "    session.execute_write(load_relationshpis)"
   ]
  },
  {
   "cell_type": "markdown",
   "id": "0928d25b",
   "metadata": {},
   "source": [
    "### Search queries"
   ]
  },
  {
   "cell_type": "markdown",
   "metadata": {},
   "source": [
    "```\n",
    "EXPLAIN PROFILE\n",
    "```"
   ]
  },
  {
   "cell_type": "code",
   "execution_count": 37,
   "id": "c61936a0",
   "metadata": {},
   "outputs": [],
   "source": [
    "def dijkstra_query(tx, osmid_1, osmid_2):\n",
    "    dijkstra_query = f\"\"\"\n",
    "        MATCH (source:Intersection {{osmid: {osmid_1}}}) \n",
    "        MATCH (target:Intersection {{osmid: {osmid_2}}})\n",
    "        CALL apoc.algo.dijkstra(source, target, \"ROAD_SEGMENT\", \"length\")\n",
    "        YIELD path, weight\n",
    "        RETURN path, weight\n",
    "        \"\"\"\n",
    "    results = tx.run(dijkstra_query)\n",
    "    print_result(results)"
   ]
  },
  {
   "cell_type": "code",
   "execution_count": 38,
   "metadata": {},
   "outputs": [],
   "source": [
    "def astar_query(tx, osmid_1, osmid_2):\n",
    "    astar_query = f\"\"\"\n",
    "        MATCH (source:Intersection {{osmid: {osmid_1}}}) \n",
    "        MATCH (target:Intersection {{osmid: {osmid_2}}})\n",
    "        CALL apoc.algo.aStar(source, target, \"ROAD_SEGMENT\", \"length\", \"latitude\", \"longitude\")\n",
    "        YIELD path, weight\n",
    "        RETURN path, weight\n",
    "        \"\"\"\n",
    "    results = tx.run(astar_query)\n",
    "    print_result(results)"
   ]
  },
  {
   "cell_type": "code",
   "execution_count": 35,
   "metadata": {},
   "outputs": [],
   "source": [
    "gdf_nodes = pd.read_csv(\"./data/krakow_nodes_neo4j.csv\")"
   ]
  },
  {
   "cell_type": "code",
   "execution_count": 216,
   "metadata": {},
   "outputs": [
    {
     "name": "stdout",
     "output_type": "stream",
     "text": [
      "osmid_1: 10298662254.0, osmid_2: 2139306598.0, distance: 24.768543728456766 km\n"
     ]
    }
   ],
   "source": [
    "# two random osmid\n",
    "start_and_finish = gdf_nodes.sample(2)\n",
    "\n",
    "osmid_1 = start_and_finish.iloc[0][\"osmid\"]\n",
    "osmid_2 = start_and_finish.iloc[1][\"osmid\"]\n",
    "\n",
    "coords_1 = start_and_finish.iloc[0][\"y\"], start_and_finish.iloc[0][\"x\"]\n",
    "coords_2 = start_and_finish.iloc[1][\"y\"], start_and_finish.iloc[1][\"x\"]\n",
    "\n",
    "print(f\"osmid_1: {osmid_1}, osmid_2: {osmid_2}, distance: {geopy.distance.distance(coords_1, coords_2).km} km\")"
   ]
  },
  {
   "cell_type": "code",
   "execution_count": 39,
   "metadata": {},
   "outputs": [],
   "source": [
    "# node_nr_1 = 356926768\n",
    "# node_nr_2 = 2104495834\n",
    "\n",
    "node_nr_1 = 356926768\n",
    "node_nr_2 = 2104495834"
   ]
  },
  {
   "cell_type": "code",
   "execution_count": 42,
   "id": "b2c1f323",
   "metadata": {},
   "outputs": [
    {
     "name": "stdout",
     "output_type": "stream",
     "text": [
      "[{'path': <Path start=<Node element_id='4:72af26a5-326b-4f9b-ad24-e33bf1c74118:352147' labels=frozenset({'Intersection'}) properties={'osmid': 356926768, 'latitude': 50.0607108, 'longitude': 19.8386575}> end=<Node element_id='4:72af26a5-326b-4f9b-ad24-e33bf1c74118:411311' labels=frozenset({'Intersection'}) properties={'osmid': 2104495834, 'latitude': 50.0636309, 'longitude': 19.9348424}> size=297>, 'weight': 7793.594000000004}]\n",
      "result_consumed_after: 546 ms\n",
      "result_available_after: 2 ms\n",
      "\n"
     ]
    }
   ],
   "source": [
    "with driver.session() as session:\n",
    "    session.execute_write(dijkstra_query, node_nr_1, node_nr_2)"
   ]
  },
  {
   "cell_type": "code",
   "execution_count": 43,
   "metadata": {},
   "outputs": [
    {
     "name": "stdout",
     "output_type": "stream",
     "text": [
      "[{'path': <Path start=<Node element_id='4:72af26a5-326b-4f9b-ad24-e33bf1c74118:352147' labels=frozenset({'Intersection'}) properties={'osmid': 356926768, 'latitude': 50.0607108, 'longitude': 19.8386575}> end=<Node element_id='4:72af26a5-326b-4f9b-ad24-e33bf1c74118:411311' labels=frozenset({'Intersection'}) properties={'osmid': 2104495834, 'latitude': 50.0636309, 'longitude': 19.9348424}> size=297>, 'weight': 7793.594000000004}]\n",
      "result_consumed_after: 56 ms\n",
      "result_available_after: 2 ms\n",
      "\n"
     ]
    }
   ],
   "source": [
    "with driver.session() as session:\n",
    "    session.execute_write(astar_query, node_nr_1, node_nr_2)"
   ]
  },
  {
   "cell_type": "markdown",
   "id": "a3724c82",
   "metadata": {},
   "source": [
    "### Add addresses - TODO"
   ]
  },
  {
   "cell_type": "code",
   "execution_count": null,
   "id": "64f680a2-63bd-4559-967b-2eff53f6b39f",
   "metadata": {},
   "outputs": [],
   "source": [
    "# We'll use apoc.load.json to import a JSON file of address data\n",
    "\n",
    "address_constraint_query = \"CREATE CONSTRAINT IF NOT EXISTS FOR (a:Address) REQUIRE a.id IS UNIQUE\"\n",
    "\n",
    "add_addresses_query = \"\"\"\n",
    "CALL apoc.periodic.iterate(\n",
    "  'CALL apoc.load.json(\"/home/pcend/Piotr/kod/lisboa-routing/data/lisboa.geojson\") YIELD value',\n",
    "  'MERGE (a:Address {id: value.properties.id})\n",
    "SET a.location = \n",
    "  point(\n",
    "      {latitude: value.geometry.coordinates[1], longitude: value.geometry.coordinates[0]}),\n",
    "    a.full_address = value.properties.number + \" \" + value.properties.street + \" \" + value.properties.city + \", CA \" + value.properties.postcode\n",
    "\n",
    "SET a += value.properties',\n",
    "  {batchSize:10000, parallel:true})\n",
    "\"\"\"\n",
    "\n",
    "# Next, connect each address to the road network at the nearest intersection\n",
    "\n",
    "near_intersection_query = \"\"\"\n",
    "CALL apoc.periodic.iterate(\n",
    "  'MATCH (p:Address) WHERE NOT EXISTS ((p)-[:NEAREST_INTERSECTION]->(:Intersection)) RETURN p',\n",
    "  'CALL {\n",
    "  WITH p\n",
    "  MATCH (i:Intersection)\n",
    "  USING INDEX i:Intersection(location)\n",
    "  WHERE point.distance(i.location, p.location) < 200\n",
    "\n",
    "  WITH i\n",
    "  ORDER BY point.distance(p.location, i.location) ASC \n",
    "  LIMIT 1\n",
    "  RETURN i\n",
    "}\n",
    "WITH p, i\n",
    "\n",
    "MERGE (p)-[r:NEAREST_INTERSECTION]->(i)\n",
    "SET r.length = point.distance(p.location, i.location)\n",
    "RETURN COUNT(p)',\n",
    "  {batchSize:1000, parallel:false})\n",
    "\"\"\"\n",
    "\n",
    "# Create a full text index to enable search in our web app\n",
    "\n",
    "full_text_query = \"CREATE FULLTEXT INDEX search_index IF NOT EXISTS FOR (p:PointOfInterest|Address) ON EACH [p.name, p.full_address]\""
   ]
  },
  {
   "cell_type": "code",
   "execution_count": null,
   "id": "4958ea56-b793-4b79-ac71-9d01c8c482f7",
   "metadata": {},
   "outputs": [],
   "source": [
    "def enrich_addresses(tx):\n",
    "    results = tx.run(add_addresses_query)        \n",
    "    results = tx.run(near_intersection_query)\n"
   ]
  },
  {
   "cell_type": "code",
   "execution_count": null,
   "id": "6c1fa54d-d1fd-4aad-bf8f-25f2d4a2225b",
   "metadata": {},
   "outputs": [],
   "source": [
    "# with driver.session() as session:\n",
    "#     session.execute_write(enrich_addresses)"
   ]
  },
  {
   "cell_type": "code",
   "execution_count": null,
   "id": "200d54d6-9f92-42e6-bf2f-e357674352c5",
   "metadata": {},
   "outputs": [],
   "source": [
    "# with driver.session() as session:\n",
    "#     results = session.execute_write(lambda tx: tx.run(full_text_query))\n"
   ]
  },
  {
   "cell_type": "markdown",
   "id": "12c48399",
   "metadata": {},
   "source": [
    "### Query with address"
   ]
  },
  {
   "cell_type": "markdown",
   "id": "063801bb-ed79-4107-8f0f-71d76474f59e",
   "metadata": {},
   "source": [
    "```\n",
    "MATCH (a:Address)-[:NEAREST_INTERSECTION]->(source:Intersection)\n",
    "WHERE a.full_address CONTAINS \"410 E 5TH AVE SAN MATEO, CA\"\n",
    "MATCH \n",
    "  (poi:Address)-[:NEAREST_INTERSECTION]->(dest:Intersection) \n",
    "WHERE poi.full_address CONTAINS \"111 5TH AVE\"\n",
    "CALL apoc.algo.dijkstra(source, dest, \"ROAD_SEGMENT\", \"length\") \n",
    "YIELD weight, path\n",
    "RETURN **\n",
    "```"
   ]
  },
  {
   "cell_type": "markdown",
   "id": "31f6e5ee-0749-4975-a61c-61e97c472f7d",
   "metadata": {},
   "source": [
    "\n",
    "```\n",
    "CALL db.index.fulltext.queryNodes(\"search_index\", $searchString) \n",
    "YIELD node, score\n",
    "RETURN coalesce(node.name, node.full_address) AS value, score, labels(node)[0] AS label, node.id AS id\n",
    "ORDER BY score DESC LIMIT 25\n",
    "```\n",
    "\n",
    "```\n",
    "MATCH (to {id: $dest})-[:NEAREST_INTERSECTION]->(source:Intersection) \n",
    "MATCH (from {id: $source})-[:NEAREST_INTERSECTION]->(target:Intersection)\n",
    "CALL apoc.algo.dijkstra(source, target, 'ROAD_SEGMENT', 'length')\n",
    "YIELD path, weight\n",
    "RETURN [n in nodes(path) | [n.location.latitude, n.location.longitude]] AS route\n",
    "```\n"
   ]
  }
 ],
 "metadata": {
  "kernelspec": {
   "display_name": "Python 3 (ipykernel)",
   "language": "python",
   "name": "python3"
  },
  "language_info": {
   "codemirror_mode": {
    "name": "ipython",
    "version": 3
   },
   "file_extension": ".py",
   "mimetype": "text/x-python",
   "name": "python",
   "nbconvert_exporter": "python",
   "pygments_lexer": "ipython3",
   "version": "3.11.6"
  }
 },
 "nbformat": 4,
 "nbformat_minor": 5
}

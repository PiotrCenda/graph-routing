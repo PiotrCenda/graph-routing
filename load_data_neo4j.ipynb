{
 "cells": [
  {
   "cell_type": "code",
   "execution_count": 3,
   "id": "ff9920e7-9df4-41b2-b0a2-caed4a0df827",
   "metadata": {},
   "outputs": [],
   "source": [
    "import neo4j\n",
    "import osmnx as ox\n",
    "import geopy.distance"
   ]
  },
  {
   "cell_type": "code",
   "execution_count": 2,
   "id": "06f86047",
   "metadata": {},
   "outputs": [],
   "source": [
    "G = ox.load_graphml(\"./data/krakow.graphml\")"
   ]
  },
  {
   "cell_type": "code",
   "execution_count": 3,
   "id": "48cfb2d2",
   "metadata": {},
   "outputs": [
    {
     "name": "stdout",
     "output_type": "stream",
     "text": [
      "MultiDiGraph with 333120 nodes and 721628 edges\n"
     ]
    }
   ],
   "source": [
    "print(G)"
   ]
  },
  {
   "cell_type": "code",
   "execution_count": 22,
   "id": "6b0fdd50-73e1-4bc5-b0c8-77a111892a89",
   "metadata": {},
   "outputs": [],
   "source": [
    "gdf_nodes, gdf_relationships = ox.graph_to_gdfs(G)\n",
    "gdf_nodes.reset_index(inplace=True)\n",
    "gdf_relationships.reset_index(inplace=True)"
   ]
  },
  {
   "cell_type": "code",
   "execution_count": 23,
   "id": "2cc82ed6-9a71-4b8b-bb78-a18e64d4d2f9",
   "metadata": {},
   "outputs": [],
   "source": [
    "gdf_nodes[\"x\"] = gdf_nodes.apply(lambda x: x.geometry.coords.xy[0][0], axis=1)\n",
    "gdf_nodes[\"y\"] = gdf_nodes.apply(lambda x: x.geometry.coords.xy[1][0], axis=1)\n",
    "gdf_nodes = gdf_nodes.drop(columns=[\"street_count\", \"geometry\", \"highway\", \"ref\"])"
   ]
  },
  {
   "cell_type": "code",
   "execution_count": 24,
   "metadata": {},
   "outputs": [
    {
     "data": {
      "text/html": [
       "<div>\n",
       "<style scoped>\n",
       "    .dataframe tbody tr th:only-of-type {\n",
       "        vertical-align: middle;\n",
       "    }\n",
       "\n",
       "    .dataframe tbody tr th {\n",
       "        vertical-align: top;\n",
       "    }\n",
       "\n",
       "    .dataframe thead th {\n",
       "        text-align: right;\n",
       "    }\n",
       "</style>\n",
       "<table border=\"1\" class=\"dataframe\">\n",
       "  <thead>\n",
       "    <tr style=\"text-align: right;\">\n",
       "      <th></th>\n",
       "      <th>osmid</th>\n",
       "      <th>y</th>\n",
       "      <th>x</th>\n",
       "    </tr>\n",
       "  </thead>\n",
       "  <tbody>\n",
       "    <tr>\n",
       "      <th>0</th>\n",
       "      <td>13822575</td>\n",
       "      <td>50.082051</td>\n",
       "      <td>20.032569</td>\n",
       "    </tr>\n",
       "    <tr>\n",
       "      <th>1</th>\n",
       "      <td>13822576</td>\n",
       "      <td>50.080695</td>\n",
       "      <td>20.034350</td>\n",
       "    </tr>\n",
       "    <tr>\n",
       "      <th>2</th>\n",
       "      <td>13822577</td>\n",
       "      <td>50.079400</td>\n",
       "      <td>20.036068</td>\n",
       "    </tr>\n",
       "    <tr>\n",
       "      <th>3</th>\n",
       "      <td>13822581</td>\n",
       "      <td>50.081723</td>\n",
       "      <td>20.036520</td>\n",
       "    </tr>\n",
       "    <tr>\n",
       "      <th>4</th>\n",
       "      <td>13822694</td>\n",
       "      <td>50.081361</td>\n",
       "      <td>20.035596</td>\n",
       "    </tr>\n",
       "    <tr>\n",
       "      <th>...</th>\n",
       "      <td>...</td>\n",
       "      <td>...</td>\n",
       "      <td>...</td>\n",
       "    </tr>\n",
       "    <tr>\n",
       "      <th>333115</th>\n",
       "      <td>11286442324</td>\n",
       "      <td>50.063331</td>\n",
       "      <td>19.960819</td>\n",
       "    </tr>\n",
       "    <tr>\n",
       "      <th>333116</th>\n",
       "      <td>11286442325</td>\n",
       "      <td>50.063072</td>\n",
       "      <td>19.961152</td>\n",
       "    </tr>\n",
       "    <tr>\n",
       "      <th>333117</th>\n",
       "      <td>11286442326</td>\n",
       "      <td>50.063120</td>\n",
       "      <td>19.960761</td>\n",
       "    </tr>\n",
       "    <tr>\n",
       "      <th>333118</th>\n",
       "      <td>11286442327</td>\n",
       "      <td>50.063135</td>\n",
       "      <td>19.961028</td>\n",
       "    </tr>\n",
       "    <tr>\n",
       "      <th>333119</th>\n",
       "      <td>11286442329</td>\n",
       "      <td>50.063361</td>\n",
       "      <td>19.960735</td>\n",
       "    </tr>\n",
       "  </tbody>\n",
       "</table>\n",
       "<p>333120 rows × 3 columns</p>\n",
       "</div>"
      ],
      "text/plain": [
       "              osmid          y          x\n",
       "0          13822575  50.082051  20.032569\n",
       "1          13822576  50.080695  20.034350\n",
       "2          13822577  50.079400  20.036068\n",
       "3          13822581  50.081723  20.036520\n",
       "4          13822694  50.081361  20.035596\n",
       "...             ...        ...        ...\n",
       "333115  11286442324  50.063331  19.960819\n",
       "333116  11286442325  50.063072  19.961152\n",
       "333117  11286442326  50.063120  19.960761\n",
       "333118  11286442327  50.063135  19.961028\n",
       "333119  11286442329  50.063361  19.960735\n",
       "\n",
       "[333120 rows x 3 columns]"
      ]
     },
     "execution_count": 24,
     "metadata": {},
     "output_type": "execute_result"
    }
   ],
   "source": [
    "gdf_nodes"
   ]
  },
  {
   "cell_type": "code",
   "execution_count": 30,
   "metadata": {},
   "outputs": [],
   "source": [
    "gdf_nodes.to_csv(\"./data/krakow_nodes_neo4j.csv\", index=False)"
   ]
  },
  {
   "cell_type": "code",
   "execution_count": 26,
   "id": "0bbd0f05-256f-49fc-b84d-f82f29b67ca2",
   "metadata": {},
   "outputs": [],
   "source": [
    "gdf_relationships = gdf_relationships.drop(columns=[\"oneway\", \"ref\", \"highway\", \"maxspeed\", \"reversed\", \"junction\", \"service\", \"key\", \n",
    "                                                    \"access\", \"width\", \"bridge\", \"est_width\", \"tunnel\", \"geometry\", \"lanes\", \"name\"])"
   ]
  },
  {
   "cell_type": "code",
   "execution_count": 27,
   "metadata": {},
   "outputs": [
    {
     "data": {
      "text/html": [
       "<div>\n",
       "<style scoped>\n",
       "    .dataframe tbody tr th:only-of-type {\n",
       "        vertical-align: middle;\n",
       "    }\n",
       "\n",
       "    .dataframe tbody tr th {\n",
       "        vertical-align: top;\n",
       "    }\n",
       "\n",
       "    .dataframe thead th {\n",
       "        text-align: right;\n",
       "    }\n",
       "</style>\n",
       "<table border=\"1\" class=\"dataframe\">\n",
       "  <thead>\n",
       "    <tr style=\"text-align: right;\">\n",
       "      <th></th>\n",
       "      <th>u</th>\n",
       "      <th>v</th>\n",
       "      <th>osmid</th>\n",
       "      <th>length</th>\n",
       "    </tr>\n",
       "  </thead>\n",
       "  <tbody>\n",
       "    <tr>\n",
       "      <th>0</th>\n",
       "      <td>13822575</td>\n",
       "      <td>965423962</td>\n",
       "      <td>25042019</td>\n",
       "      <td>18.886</td>\n",
       "    </tr>\n",
       "    <tr>\n",
       "      <th>1</th>\n",
       "      <td>13822575</td>\n",
       "      <td>8284483157</td>\n",
       "      <td>148469683</td>\n",
       "      <td>8.987</td>\n",
       "    </tr>\n",
       "    <tr>\n",
       "      <th>2</th>\n",
       "      <td>13822575</td>\n",
       "      <td>777395552</td>\n",
       "      <td>997754503</td>\n",
       "      <td>13.867</td>\n",
       "    </tr>\n",
       "    <tr>\n",
       "      <th>3</th>\n",
       "      <td>13822576</td>\n",
       "      <td>1234198750</td>\n",
       "      <td>2954554</td>\n",
       "      <td>14.652</td>\n",
       "    </tr>\n",
       "    <tr>\n",
       "      <th>4</th>\n",
       "      <td>13822576</td>\n",
       "      <td>5339146823</td>\n",
       "      <td>553072298</td>\n",
       "      <td>24.027</td>\n",
       "    </tr>\n",
       "    <tr>\n",
       "      <th>...</th>\n",
       "      <td>...</td>\n",
       "      <td>...</td>\n",
       "      <td>...</td>\n",
       "      <td>...</td>\n",
       "    </tr>\n",
       "    <tr>\n",
       "      <th>721623</th>\n",
       "      <td>11286442326</td>\n",
       "      <td>5773366079</td>\n",
       "      <td>1218055223</td>\n",
       "      <td>14.989</td>\n",
       "    </tr>\n",
       "    <tr>\n",
       "      <th>721624</th>\n",
       "      <td>11286442326</td>\n",
       "      <td>1919699663</td>\n",
       "      <td>1218055223</td>\n",
       "      <td>3.619</td>\n",
       "    </tr>\n",
       "    <tr>\n",
       "      <th>721625</th>\n",
       "      <td>11286442327</td>\n",
       "      <td>11286442303</td>\n",
       "      <td>609536558</td>\n",
       "      <td>7.807</td>\n",
       "    </tr>\n",
       "    <tr>\n",
       "      <th>721626</th>\n",
       "      <td>11286442327</td>\n",
       "      <td>11286442326</td>\n",
       "      <td>609536558</td>\n",
       "      <td>19.125</td>\n",
       "    </tr>\n",
       "    <tr>\n",
       "      <th>721627</th>\n",
       "      <td>11286442329</td>\n",
       "      <td>11286442324</td>\n",
       "      <td>181558204</td>\n",
       "      <td>6.891</td>\n",
       "    </tr>\n",
       "  </tbody>\n",
       "</table>\n",
       "<p>721628 rows × 4 columns</p>\n",
       "</div>"
      ],
      "text/plain": [
       "                  u            v       osmid  length\n",
       "0          13822575    965423962    25042019  18.886\n",
       "1          13822575   8284483157   148469683   8.987\n",
       "2          13822575    777395552   997754503  13.867\n",
       "3          13822576   1234198750     2954554  14.652\n",
       "4          13822576   5339146823   553072298  24.027\n",
       "...             ...          ...         ...     ...\n",
       "721623  11286442326   5773366079  1218055223  14.989\n",
       "721624  11286442326   1919699663  1218055223   3.619\n",
       "721625  11286442327  11286442303   609536558   7.807\n",
       "721626  11286442327  11286442326   609536558  19.125\n",
       "721627  11286442329  11286442324   181558204   6.891\n",
       "\n",
       "[721628 rows x 4 columns]"
      ]
     },
     "execution_count": 27,
     "metadata": {},
     "output_type": "execute_result"
    }
   ],
   "source": [
    "gdf_relationships"
   ]
  },
  {
   "cell_type": "code",
   "execution_count": 31,
   "metadata": {},
   "outputs": [],
   "source": [
    "gdf_relationships.to_csv(\"./data/krakow_relationships_neo4j.csv\", index=False)"
   ]
  },
  {
   "cell_type": "markdown",
   "id": "c8e062dc",
   "metadata": {},
   "source": [
    "### Search for good osmid pairs"
   ]
  },
  {
   "cell_type": "code",
   "execution_count": 9,
   "id": "fb74b163",
   "metadata": {},
   "outputs": [
    {
     "data": {
      "text/html": [
       "<div>\n",
       "<style scoped>\n",
       "    .dataframe tbody tr th:only-of-type {\n",
       "        vertical-align: middle;\n",
       "    }\n",
       "\n",
       "    .dataframe tbody tr th {\n",
       "        vertical-align: top;\n",
       "    }\n",
       "\n",
       "    .dataframe thead th {\n",
       "        text-align: right;\n",
       "    }\n",
       "</style>\n",
       "<table border=\"1\" class=\"dataframe\">\n",
       "  <thead>\n",
       "    <tr style=\"text-align: right;\">\n",
       "      <th></th>\n",
       "      <th>osmid</th>\n",
       "      <th>y</th>\n",
       "      <th>x</th>\n",
       "      <th>street_count</th>\n",
       "      <th>highway</th>\n",
       "      <th>ref</th>\n",
       "      <th>geometry</th>\n",
       "    </tr>\n",
       "  </thead>\n",
       "  <tbody>\n",
       "    <tr>\n",
       "      <th>19027</th>\n",
       "      <td>356926768</td>\n",
       "      <td>50.060711</td>\n",
       "      <td>19.838658</td>\n",
       "      <td>2</td>\n",
       "      <td>NaN</td>\n",
       "      <td>NaN</td>\n",
       "      <td>POINT (19.83866 50.06071)</td>\n",
       "    </tr>\n",
       "  </tbody>\n",
       "</table>\n",
       "</div>"
      ],
      "text/plain": [
       "           osmid          y          x  street_count highway  ref  \\\n",
       "19027  356926768  50.060711  19.838658             2     NaN  NaN   \n",
       "\n",
       "                        geometry  \n",
       "19027  POINT (19.83866 50.06071)  "
      ]
     },
     "execution_count": 9,
     "metadata": {},
     "output_type": "execute_result"
    }
   ],
   "source": [
    "# Node 1 - zakamycze\n",
    "node_nr_1 = 356926768\n",
    "gdf_nodes[gdf_nodes[\"osmid\"] == node_nr_1]"
   ]
  },
  {
   "cell_type": "code",
   "execution_count": 10,
   "id": "b28b5530",
   "metadata": {},
   "outputs": [
    {
     "data": {
      "text/html": [
       "<div>\n",
       "<style scoped>\n",
       "    .dataframe tbody tr th:only-of-type {\n",
       "        vertical-align: middle;\n",
       "    }\n",
       "\n",
       "    .dataframe tbody tr th {\n",
       "        vertical-align: top;\n",
       "    }\n",
       "\n",
       "    .dataframe thead th {\n",
       "        text-align: right;\n",
       "    }\n",
       "</style>\n",
       "<table border=\"1\" class=\"dataframe\">\n",
       "  <thead>\n",
       "    <tr style=\"text-align: right;\">\n",
       "      <th></th>\n",
       "      <th>osmid</th>\n",
       "      <th>y</th>\n",
       "      <th>x</th>\n",
       "      <th>street_count</th>\n",
       "      <th>highway</th>\n",
       "      <th>ref</th>\n",
       "      <th>geometry</th>\n",
       "    </tr>\n",
       "  </thead>\n",
       "  <tbody>\n",
       "    <tr>\n",
       "      <th>78191</th>\n",
       "      <td>2104495834</td>\n",
       "      <td>50.063631</td>\n",
       "      <td>19.934842</td>\n",
       "      <td>3</td>\n",
       "      <td>NaN</td>\n",
       "      <td>NaN</td>\n",
       "      <td>POINT (19.93484 50.06363)</td>\n",
       "    </tr>\n",
       "  </tbody>\n",
       "</table>\n",
       "</div>"
      ],
      "text/plain": [
       "            osmid          y          x  street_count highway  ref  \\\n",
       "78191  2104495834  50.063631  19.934842             3     NaN  NaN   \n",
       "\n",
       "                        geometry  \n",
       "78191  POINT (19.93484 50.06363)  "
      ]
     },
     "execution_count": 10,
     "metadata": {},
     "output_type": "execute_result"
    }
   ],
   "source": [
    "# Node 2 - betel\n",
    "node_nr_2 = 2104495834\n",
    "gdf_nodes[gdf_nodes[\"osmid\"] == node_nr_2]"
   ]
  },
  {
   "cell_type": "code",
   "execution_count": 11,
   "id": "b272fcc1",
   "metadata": {},
   "outputs": [
    {
     "name": "stdout",
     "output_type": "stream",
     "text": [
      "osmid_1: 1924205909, osmid_2: 11098530035, distance: 5.788148236128053 km\n"
     ]
    }
   ],
   "source": [
    "# two random osmid\n",
    "start_and_finish = gdf_nodes.sample(2)\n",
    "\n",
    "osmid_1 = start_and_finish.iloc[0][\"osmid\"]\n",
    "osmid_2 = start_and_finish.iloc[1][\"osmid\"]\n",
    "\n",
    "coords_1 = start_and_finish.iloc[0][\"y\"], start_and_finish.iloc[0][\"x\"]\n",
    "coords_2 = start_and_finish.iloc[1][\"y\"], start_and_finish.iloc[1][\"x\"]\n",
    "\n",
    "print(f\"osmid_1: {osmid_1}, osmid_2: {osmid_2}, distance: {geopy.distance.distance(coords_1, coords_2).km} km\")"
   ]
  },
  {
   "attachments": {},
   "cell_type": "markdown",
   "id": "75c11976-19d6-4284-aebf-a77c51311160",
   "metadata": {},
   "source": [
    "## Neo4j Import"
   ]
  },
  {
   "cell_type": "code",
   "execution_count": 21,
   "id": "57845fbe",
   "metadata": {},
   "outputs": [],
   "source": [
    "NEO4J_URI = \"bolt://localhost:7690\"\n",
    "NEO4J_USER = \"neo4j\"\n",
    "NEO4J_PASSWORD = \"graph-routing\"\n",
    "NEO4J_DATABASE = \"neo4j\"\n",
    "\n",
    "driver = neo4j.GraphDatabase.driver(NEO4J_URI, auth=(NEO4J_USER, NEO4J_PASSWORD), database=NEO4J_DATABASE)"
   ]
  },
  {
   "cell_type": "code",
   "execution_count": 22,
   "id": "0ae078ac-f626-4c1b-aa42-db18298bccf4",
   "metadata": {},
   "outputs": [],
   "source": [
    "clear_data_query = \"MATCH (n) DETACH DELETE n\"\n",
    "\n",
    "clear_indexes_and_constrains = \"CALL apoc.schema.assert({}, {}, true) YIELD label, key RETURN *\"\n",
    "\n",
    "node_constraint_query = \"CREATE CONSTRAINT IF NOT EXISTS FOR (i:Intersection) REQUIRE i.osmid IS UNIQUE\"\n",
    "\n",
    "rel_index_query = \"CREATE INDEX IF NOT EXISTS FOR ()-[r:ROAD_SEGMENT]-() ON r.osmid\"\n",
    "    \n",
    "nodes_csv_load = \"\"\"\n",
    "    LOAD CSV WITH HEADERS FROM \n",
    "    \"file:///krakow_nodes_neo4j.csv\" AS row\n",
    "    WITH row WHERE row.osmid IS NOT NULL\n",
    "    MERGE (i:Intersection {osmid: toInteger(row.osmid)})\n",
    "    SET i.latitude = toFloat(row.y), \n",
    "        i.longitude = toFloat(row.x)\n",
    "    RETURN COUNT(*) as total\n",
    "    \"\"\"\n",
    "    \n",
    "relationships_csv_load = \"\"\"\n",
    "    LOAD CSV WITH HEADERS FROM \n",
    "    \"file:///krakow_relationships_neo4j.csv\" AS row\n",
    "    MATCH (from:Intersection {osmid: toInteger(row.u)})\n",
    "    MATCH (to:Intersection {osmid: toInteger(row.v)})\n",
    "    MERGE (from)-[r:ROAD_SEGMENT {osmid: toInteger(row.osmid)}]->(to)\n",
    "    SET r.length = toFloat(row.length)\n",
    "    RETURN COUNT(*) AS total\n",
    "    \"\"\"\n"
   ]
  },
  {
   "cell_type": "code",
   "execution_count": 31,
   "metadata": {},
   "outputs": [],
   "source": [
    "def print_result(results):\n",
    "    result = [dict(i) for i in results]\n",
    "    print(result)\n",
    "    \n",
    "    result_all = results.consume()\n",
    "    print(f\"result_consumed_after: {result_all.result_consumed_after}\")\n",
    "    print(f\"result_available_after: {result_all.result_available_after}\\n\")"
   ]
  },
  {
   "cell_type": "code",
   "execution_count": 24,
   "id": "511e9fde",
   "metadata": {},
   "outputs": [],
   "source": [
    "def delete_database(tx):\n",
    "    results = tx.run(clear_data_query)\n",
    "    print_result(results)\n",
    "\n",
    "def clear_indexes(tx):\n",
    "    results = tx.run(clear_indexes_and_constrains)\n",
    "    print_result(results)"
   ]
  },
  {
   "cell_type": "code",
   "execution_count": 25,
   "id": "3272bd16-121e-4863-94b5-c201c579df78",
   "metadata": {},
   "outputs": [],
   "source": [
    "def create_constraints(tx):\n",
    "    results = tx.run(node_constraint_query)\n",
    "    print_result(results)\n",
    "\n",
    "    results = tx.run(rel_index_query)\n",
    "    print_result(results)"
   ]
  },
  {
   "cell_type": "code",
   "execution_count": 26,
   "metadata": {},
   "outputs": [],
   "source": [
    "def load_nodes(tx):\n",
    "    results = tx.run(nodes_csv_load)\n",
    "    print_result(results)"
   ]
  },
  {
   "cell_type": "code",
   "execution_count": 27,
   "metadata": {},
   "outputs": [],
   "source": [
    "def load_relationshpis(tx):\n",
    "    results = tx.run(relationships_csv_load)\n",
    "    print_result(results)"
   ]
  },
  {
   "cell_type": "markdown",
   "id": "3cf79421",
   "metadata": {},
   "source": [
    "### Clear database"
   ]
  },
  {
   "cell_type": "code",
   "execution_count": 32,
   "id": "a662a8d7",
   "metadata": {},
   "outputs": [
    {
     "name": "stdout",
     "output_type": "stream",
     "text": [
      "[]\n",
      "result_consumed_after: 0\n",
      "result_available_after: 76\n",
      "\n",
      "[]\n",
      "result_consumed_after: 2\n",
      "result_available_after: 3\n",
      "\n"
     ]
    }
   ],
   "source": [
    "with driver.session() as session:\n",
    "    session.execute_write(delete_database)\n",
    "    \n",
    "with driver.session() as session:\n",
    "    session.execute_write(clear_indexes)"
   ]
  },
  {
   "cell_type": "markdown",
   "id": "a5661f52",
   "metadata": {},
   "source": [
    "### Create constraints"
   ]
  },
  {
   "cell_type": "code",
   "execution_count": 94,
   "id": "5a9b4106",
   "metadata": {},
   "outputs": [
    {
     "name": "stdout",
     "output_type": "stream",
     "text": [
      "<neo4j._sync.work.result.Result object at 0x7f240294fa50>\n",
      "<neo4j._sync.work.result.Result object at 0x7f240294fdd0>\n"
     ]
    }
   ],
   "source": [
    "with driver.session() as session:\n",
    "    session.execute_write(create_constraints)"
   ]
  },
  {
   "cell_type": "markdown",
   "id": "0a49ae6f",
   "metadata": {},
   "source": [
    "### Load data"
   ]
  },
  {
   "cell_type": "code",
   "execution_count": 95,
   "metadata": {},
   "outputs": [
    {
     "name": "stdout",
     "output_type": "stream",
     "text": [
      "<neo4j._sync.work.result.Result object at 0x7f240294f710>\n"
     ]
    }
   ],
   "source": [
    "with driver.session() as session:\n",
    "    session.execute_write(load_nodes)"
   ]
  },
  {
   "cell_type": "code",
   "execution_count": 96,
   "metadata": {},
   "outputs": [
    {
     "name": "stdout",
     "output_type": "stream",
     "text": [
      "<neo4j._sync.work.result.Result object at 0x7f240294df50>\n"
     ]
    }
   ],
   "source": [
    "with driver.session() as session:\n",
    "    session.execute_write(load_relationshpis)"
   ]
  },
  {
   "cell_type": "markdown",
   "id": "0928d25b",
   "metadata": {},
   "source": [
    "### Simple search path query"
   ]
  },
  {
   "cell_type": "markdown",
   "metadata": {},
   "source": [
    "```\n",
    "EXPLAIN PROFILE\n",
    "```"
   ]
  },
  {
   "cell_type": "markdown",
   "id": "6c9a3746",
   "metadata": {},
   "source": [
    "```\n",
    "MATCH (source:Intersection {osmid: 356926768}) \n",
    "MATCH (target:Intersection {osmid: 2104495834})\n",
    "CALL apoc.algo.dijkstra(source, target, \"ROAD_SEGMENT\", \"length\")\n",
    "YIELD path, weight\n",
    "RETURN path, weight\n",
    "```"
   ]
  },
  {
   "cell_type": "markdown",
   "id": "04d1e94d",
   "metadata": {},
   "source": [
    "```\n",
    "MATCH (source:Intersection {osmid: 356926768}) \n",
    "MATCH (target:Intersection {osmid: 2104495834})\n",
    "CALL apoc.algo.aStar(source, target, \"ROAD_SEGMENT\", \"length\", \"latitude\", \"longitude\")\n",
    "YIELD path, weight\n",
    "RETURN path, weight\n",
    "```"
   ]
  },
  {
   "cell_type": "code",
   "execution_count": 5,
   "id": "c61936a0",
   "metadata": {},
   "outputs": [],
   "source": [
    "def dijkstra_query(tx, osmid_1, osmid_2):\n",
    "    dijkstra_query = f\"\"\"\n",
    "        MATCH (source:Intersection {{osmid: {osmid_1}}}) \n",
    "        MATCH (target:Intersection {{osmid: {osmid_2}}})\n",
    "        CALL apoc.algo.dijkstra(source, target, \"ROAD_SEGMENT\", \"length\")\n",
    "        YIELD path, weight\n",
    "        RETURN path, weight\n",
    "        \"\"\"\n",
    "    results = tx.run(dijkstra_query)\n",
    "    print_result(results)"
   ]
  },
  {
   "cell_type": "code",
   "execution_count": 6,
   "metadata": {},
   "outputs": [],
   "source": [
    "node_nr_1 = 356926768\n",
    "node_nr_2 = 2104495834"
   ]
  },
  {
   "cell_type": "code",
   "execution_count": 7,
   "id": "b2c1f323",
   "metadata": {},
   "outputs": [
    {
     "ename": "AttributeError",
     "evalue": "'Result' object has no attribute 'summary'",
     "output_type": "error",
     "traceback": [
      "\u001b[0;31m---------------------------------------------------------------------------\u001b[0m",
      "\u001b[0;31mAttributeError\u001b[0m                            Traceback (most recent call last)",
      "\u001b[1;32m/home/pcend/Piotr/kod/lisboa-routing/load_data_neo4j.ipynb Cell 35\u001b[0m line \u001b[0;36m2\n\u001b[1;32m      <a href='vscode-notebook-cell:/home/pcend/Piotr/kod/lisboa-routing/load_data_neo4j.ipynb#X46sZmlsZQ%3D%3D?line=0'>1</a>\u001b[0m \u001b[39mwith\u001b[39;00m driver\u001b[39m.\u001b[39msession() \u001b[39mas\u001b[39;00m session:\n\u001b[0;32m----> <a href='vscode-notebook-cell:/home/pcend/Piotr/kod/lisboa-routing/load_data_neo4j.ipynb#X46sZmlsZQ%3D%3D?line=1'>2</a>\u001b[0m     session\u001b[39m.\u001b[39;49mexecute_write(dijkstra_query, node_nr_1, node_nr_2)\n",
      "File \u001b[0;32m~/Piotr/kod/lisboa-routing/venv/lib/python3.11/site-packages/neo4j/_sync/work/session.py:752\u001b[0m, in \u001b[0;36mSession.execute_write\u001b[0;34m(self, transaction_function, *args, **kwargs)\u001b[0m\n\u001b[1;32m    702\u001b[0m \u001b[39mdef\u001b[39;00m \u001b[39mexecute_write\u001b[39m(\n\u001b[1;32m    703\u001b[0m     \u001b[39mself\u001b[39m,\n\u001b[1;32m    704\u001b[0m     transaction_function: t\u001b[39m.\u001b[39mCallable[\n\u001b[0;32m   (...)\u001b[0m\n\u001b[1;32m    707\u001b[0m     \u001b[39m*\u001b[39margs: _P\u001b[39m.\u001b[39margs,  \u001b[39m*\u001b[39m\u001b[39m*\u001b[39mkwargs: _P\u001b[39m.\u001b[39mkwargs\n\u001b[1;32m    708\u001b[0m ) \u001b[39m-\u001b[39m\u001b[39m>\u001b[39m _R:\n\u001b[1;32m    709\u001b[0m \u001b[39m    \u001b[39m\u001b[39m\"\"\"Execute a unit of work in a managed write transaction.\u001b[39;00m\n\u001b[1;32m    710\u001b[0m \n\u001b[1;32m    711\u001b[0m \u001b[39m    .. note::\u001b[39;00m\n\u001b[0;32m   (...)\u001b[0m\n\u001b[1;32m    750\u001b[0m \u001b[39m    .. versionadded:: 5.0\u001b[39;00m\n\u001b[1;32m    751\u001b[0m \u001b[39m    \"\"\"\u001b[39;00m\n\u001b[0;32m--> 752\u001b[0m     \u001b[39mreturn\u001b[39;00m \u001b[39mself\u001b[39;49m\u001b[39m.\u001b[39;49m_run_transaction(\n\u001b[1;32m    753\u001b[0m         WRITE_ACCESS, TelemetryAPI\u001b[39m.\u001b[39;49mTX_FUNC,\n\u001b[1;32m    754\u001b[0m         transaction_function, args, kwargs\n\u001b[1;32m    755\u001b[0m     )\n",
      "File \u001b[0;32m~/Piotr/kod/lisboa-routing/venv/lib/python3.11/site-packages/neo4j/_sync/work/session.py:550\u001b[0m, in \u001b[0;36mSession._run_transaction\u001b[0;34m(self, access_mode, api, transaction_function, args, kwargs)\u001b[0m\n\u001b[1;32m    548\u001b[0m tx \u001b[39m=\u001b[39m \u001b[39mself\u001b[39m\u001b[39m.\u001b[39m_transaction\n\u001b[1;32m    549\u001b[0m \u001b[39mtry\u001b[39;00m:\n\u001b[0;32m--> 550\u001b[0m     result \u001b[39m=\u001b[39m transaction_function(tx, \u001b[39m*\u001b[39;49margs, \u001b[39m*\u001b[39;49m\u001b[39m*\u001b[39;49mkwargs)\n\u001b[1;32m    551\u001b[0m \u001b[39mexcept\u001b[39;00m asyncio\u001b[39m.\u001b[39mCancelledError:\n\u001b[1;32m    552\u001b[0m     \u001b[39m# if cancellation callback has not been called yet:\u001b[39;00m\n\u001b[1;32m    553\u001b[0m     \u001b[39mif\u001b[39;00m \u001b[39mself\u001b[39m\u001b[39m.\u001b[39m_transaction \u001b[39mis\u001b[39;00m \u001b[39mnot\u001b[39;00m \u001b[39mNone\u001b[39;00m:\n",
      "\u001b[1;32m/home/pcend/Piotr/kod/lisboa-routing/load_data_neo4j.ipynb Cell 35\u001b[0m line \u001b[0;36m1\n\u001b[1;32m      <a href='vscode-notebook-cell:/home/pcend/Piotr/kod/lisboa-routing/load_data_neo4j.ipynb#X46sZmlsZQ%3D%3D?line=1'>2</a>\u001b[0m dijkstra_query \u001b[39m=\u001b[39m \u001b[39mf\u001b[39m\u001b[39m\"\"\"\u001b[39m\n\u001b[1;32m      <a href='vscode-notebook-cell:/home/pcend/Piotr/kod/lisboa-routing/load_data_neo4j.ipynb#X46sZmlsZQ%3D%3D?line=2'>3</a>\u001b[0m \u001b[39m    MATCH (source:Intersection \u001b[39m\u001b[39m{{\u001b[39;00m\u001b[39mosmid: \u001b[39m\u001b[39m{\u001b[39;00mosmid_1\u001b[39m}\u001b[39;00m\u001b[39m}}\u001b[39;00m\u001b[39m) \u001b[39m\n\u001b[1;32m      <a href='vscode-notebook-cell:/home/pcend/Piotr/kod/lisboa-routing/load_data_neo4j.ipynb#X46sZmlsZQ%3D%3D?line=3'>4</a>\u001b[0m \u001b[39m    MATCH (target:Intersection \u001b[39m\u001b[39m{{\u001b[39;00m\u001b[39mosmid: \u001b[39m\u001b[39m{\u001b[39;00mosmid_2\u001b[39m}\u001b[39;00m\u001b[39m}}\u001b[39;00m\u001b[39m)\u001b[39m\n\u001b[0;32m   (...)\u001b[0m\n\u001b[1;32m      <a href='vscode-notebook-cell:/home/pcend/Piotr/kod/lisboa-routing/load_data_neo4j.ipynb#X46sZmlsZQ%3D%3D?line=6'>7</a>\u001b[0m \u001b[39m    RETURN path, weight\u001b[39m\n\u001b[1;32m      <a href='vscode-notebook-cell:/home/pcend/Piotr/kod/lisboa-routing/load_data_neo4j.ipynb#X46sZmlsZQ%3D%3D?line=7'>8</a>\u001b[0m \u001b[39m    \u001b[39m\u001b[39m\"\"\"\u001b[39m\n\u001b[1;32m      <a href='vscode-notebook-cell:/home/pcend/Piotr/kod/lisboa-routing/load_data_neo4j.ipynb#X46sZmlsZQ%3D%3D?line=8'>9</a>\u001b[0m results \u001b[39m=\u001b[39m tx\u001b[39m.\u001b[39mrun(dijkstra_query)\n\u001b[0;32m---> <a href='vscode-notebook-cell:/home/pcend/Piotr/kod/lisboa-routing/load_data_neo4j.ipynb#X46sZmlsZQ%3D%3D?line=10'>11</a>\u001b[0m \u001b[39mprint\u001b[39m(results\u001b[39m.\u001b[39;49msummary())\n",
      "\u001b[0;31mAttributeError\u001b[0m: 'Result' object has no attribute 'summary'"
     ]
    }
   ],
   "source": [
    "with driver.session() as session:\n",
    "    session.execute_write(dijkstra_query, node_nr_1, node_nr_2)"
   ]
  },
  {
   "cell_type": "markdown",
   "id": "a3724c82",
   "metadata": {},
   "source": [
    "### Add addresses - TODO"
   ]
  },
  {
   "cell_type": "code",
   "execution_count": null,
   "id": "64f680a2-63bd-4559-967b-2eff53f6b39f",
   "metadata": {},
   "outputs": [],
   "source": [
    "# We'll use apoc.load.json to import a JSON file of address data\n",
    "\n",
    "address_constraint_query = \"CREATE CONSTRAINT IF NOT EXISTS FOR (a:Address) REQUIRE a.id IS UNIQUE\"\n",
    "\n",
    "add_addresses_query = \"\"\"\n",
    "CALL apoc.periodic.iterate(\n",
    "  'CALL apoc.load.json(\"/home/pcend/Piotr/kod/lisboa-routing/data/lisboa.geojson\") YIELD value',\n",
    "  'MERGE (a:Address {id: value.properties.id})\n",
    "SET a.location = \n",
    "  point(\n",
    "      {latitude: value.geometry.coordinates[1], longitude: value.geometry.coordinates[0]}),\n",
    "    a.full_address = value.properties.number + \" \" + value.properties.street + \" \" + value.properties.city + \", CA \" + value.properties.postcode\n",
    "\n",
    "SET a += value.properties',\n",
    "  {batchSize:10000, parallel:true})\n",
    "\"\"\"\n",
    "\n",
    "# Next, connect each address to the road network at the nearest intersection\n",
    "\n",
    "near_intersection_query = \"\"\"\n",
    "CALL apoc.periodic.iterate(\n",
    "  'MATCH (p:Address) WHERE NOT EXISTS ((p)-[:NEAREST_INTERSECTION]->(:Intersection)) RETURN p',\n",
    "  'CALL {\n",
    "  WITH p\n",
    "  MATCH (i:Intersection)\n",
    "  USING INDEX i:Intersection(location)\n",
    "  WHERE point.distance(i.location, p.location) < 200\n",
    "\n",
    "  WITH i\n",
    "  ORDER BY point.distance(p.location, i.location) ASC \n",
    "  LIMIT 1\n",
    "  RETURN i\n",
    "}\n",
    "WITH p, i\n",
    "\n",
    "MERGE (p)-[r:NEAREST_INTERSECTION]->(i)\n",
    "SET r.length = point.distance(p.location, i.location)\n",
    "RETURN COUNT(p)',\n",
    "  {batchSize:1000, parallel:false})\n",
    "\"\"\"\n",
    "\n",
    "# Create a full text index to enable search in our web app\n",
    "\n",
    "full_text_query = \"CREATE FULLTEXT INDEX search_index IF NOT EXISTS FOR (p:PointOfInterest|Address) ON EACH [p.name, p.full_address]\""
   ]
  },
  {
   "cell_type": "code",
   "execution_count": null,
   "id": "4958ea56-b793-4b79-ac71-9d01c8c482f7",
   "metadata": {},
   "outputs": [],
   "source": [
    "def enrich_addresses(tx):\n",
    "    results = tx.run(add_addresses_query)        \n",
    "    results = tx.run(near_intersection_query)\n"
   ]
  },
  {
   "cell_type": "code",
   "execution_count": null,
   "id": "6c1fa54d-d1fd-4aad-bf8f-25f2d4a2225b",
   "metadata": {},
   "outputs": [],
   "source": [
    "# with driver.session() as session:\n",
    "#     session.execute_write(enrich_addresses)"
   ]
  },
  {
   "cell_type": "code",
   "execution_count": null,
   "id": "200d54d6-9f92-42e6-bf2f-e357674352c5",
   "metadata": {},
   "outputs": [],
   "source": [
    "# with driver.session() as session:\n",
    "#     results = session.execute_write(lambda tx: tx.run(full_text_query))\n"
   ]
  },
  {
   "cell_type": "markdown",
   "id": "12c48399",
   "metadata": {},
   "source": [
    "### Query with address"
   ]
  },
  {
   "cell_type": "markdown",
   "id": "063801bb-ed79-4107-8f0f-71d76474f59e",
   "metadata": {},
   "source": [
    "```\n",
    "MATCH (a:Address)-[:NEAREST_INTERSECTION]->(source:Intersection)\n",
    "WHERE a.full_address CONTAINS \"410 E 5TH AVE SAN MATEO, CA\"\n",
    "MATCH \n",
    "  (poi:Address)-[:NEAREST_INTERSECTION]->(dest:Intersection) \n",
    "WHERE poi.full_address CONTAINS \"111 5TH AVE\"\n",
    "CALL apoc.algo.dijkstra(source, dest, \"ROAD_SEGMENT\", \"length\") \n",
    "YIELD weight, path\n",
    "RETURN **\n",
    "```"
   ]
  },
  {
   "cell_type": "markdown",
   "id": "31f6e5ee-0749-4975-a61c-61e97c472f7d",
   "metadata": {},
   "source": [
    "\n",
    "```\n",
    "CALL db.index.fulltext.queryNodes(\"search_index\", $searchString) \n",
    "YIELD node, score\n",
    "RETURN coalesce(node.name, node.full_address) AS value, score, labels(node)[0] AS label, node.id AS id\n",
    "ORDER BY score DESC LIMIT 25\n",
    "```\n",
    "\n",
    "```\n",
    "MATCH (to {id: $dest})-[:NEAREST_INTERSECTION]->(source:Intersection) \n",
    "MATCH (from {id: $source})-[:NEAREST_INTERSECTION]->(target:Intersection)\n",
    "CALL apoc.algo.dijkstra(source, target, 'ROAD_SEGMENT', 'length')\n",
    "YIELD path, weight\n",
    "RETURN [n in nodes(path) | [n.location.latitude, n.location.longitude]] AS route\n",
    "```\n"
   ]
  }
 ],
 "metadata": {
  "kernelspec": {
   "display_name": "Python 3 (ipykernel)",
   "language": "python",
   "name": "python3"
  },
  "language_info": {
   "codemirror_mode": {
    "name": "ipython",
    "version": 3
   },
   "file_extension": ".py",
   "mimetype": "text/x-python",
   "name": "python",
   "nbconvert_exporter": "python",
   "pygments_lexer": "ipython3",
   "version": "3.11.6"
  }
 },
 "nbformat": 4,
 "nbformat_minor": 5
}

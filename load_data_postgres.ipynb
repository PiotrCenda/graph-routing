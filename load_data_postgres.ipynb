{
 "cells": [
  {
   "cell_type": "code",
   "execution_count": 99,
   "metadata": {},
   "outputs": [],
   "source": [
    "import psycopg2"
   ]
  },
  {
   "cell_type": "markdown",
   "metadata": {},
   "source": [
    "### Sample postgres table:\n",
    "\n",
    "```\n",
    "CREATE TABLE edge_table (\n",
    "    id BIGSERIAL,\n",
    "    source BIGINT,\n",
    "    target BIGINT,\n",
    "    cost FLOAT,\n",
    "    x1 FLOAT,\n",
    "    y1 FLOAT,\n",
    "    x2 FLOAT,\n",
    "    y2 FLOAT\n",
    ");\n",
    "```"
   ]
  },
  {
   "cell_type": "markdown",
   "metadata": {},
   "source": [
    "### Postgres connection"
   ]
  },
  {
   "cell_type": "code",
   "execution_count": 100,
   "metadata": {},
   "outputs": [],
   "source": [
    "conn = psycopg2.connect(\n",
    "    host=\"localhost\",\n",
    "    database=\"krakow\",\n",
    "    user=\"postgres\",\n",
    "    password=\"postgres\")"
   ]
  },
  {
   "cell_type": "markdown",
   "metadata": {},
   "source": [
    "### Data loading"
   ]
  },
  {
   "cell_type": "code",
   "execution_count": 101,
   "metadata": {},
   "outputs": [],
   "source": [
    "conn.autocommit = True\n",
    "cursor = conn.cursor() "
   ]
  },
  {
   "cell_type": "code",
   "execution_count": 106,
   "metadata": {},
   "outputs": [],
   "source": [
    "drop_table = \"DROP TABLE IF EXISTS edge_table CASCADE;\"\n",
    "\n",
    "create_table = \"\"\"\n",
    "    CREATE TABLE edge_table (\n",
    "    id BIGSERIAL,\n",
    "    osmid BIGINT,\n",
    "    source BIGINT,\n",
    "    target BIGINT,\n",
    "    length FLOAT,\n",
    "    name VARCHAR,\n",
    "    highway VARCHAR,\n",
    "    x1 FLOAT,\n",
    "    y1 FLOAT,\n",
    "    x2 FLOAT,\n",
    "    y2 FLOAT);\n",
    "\"\"\"\n",
    "\n",
    "create_extension = \"\"\"\n",
    "    CREATE EXTENSION IF NOT EXISTS pgrouting CASCADE;\n",
    "    CREATE EXTENSION IF NOT EXISTS postgis;\n",
    "\"\"\"\n",
    "\n",
    "create_index = \"\"\"\n",
    "    CREATE INDEX source_idx ON edge_table (source);\n",
    "    CREATE INDEX target_idx ON edge_table (target);\n",
    "\"\"\""
   ]
  },
  {
   "cell_type": "markdown",
   "metadata": {},
   "source": [
    "### Drop table (if exists)"
   ]
  },
  {
   "cell_type": "code",
   "execution_count": 107,
   "metadata": {},
   "outputs": [],
   "source": [
    "cursor.execute(drop_table)"
   ]
  },
  {
   "cell_type": "markdown",
   "metadata": {},
   "source": [
    "### Create extensions (pgRouting and postgis)"
   ]
  },
  {
   "cell_type": "code",
   "execution_count": 108,
   "metadata": {},
   "outputs": [],
   "source": [
    "cursor.execute(create_extension)"
   ]
  },
  {
   "cell_type": "markdown",
   "metadata": {},
   "source": [
    "### Create table"
   ]
  },
  {
   "cell_type": "code",
   "execution_count": 109,
   "metadata": {},
   "outputs": [],
   "source": [
    "cursor.execute(create_table)"
   ]
  },
  {
   "cell_type": "markdown",
   "metadata": {},
   "source": [
    "### Load data from csv"
   ]
  },
  {
   "cell_type": "code",
   "execution_count": 110,
   "metadata": {},
   "outputs": [],
   "source": [
    "# TODO: remember to change path to .csv file\n",
    "csv_file_name = \"/home/pcend/Piotr/kod/lisboa-routing/data/krakow/edge_table_sql.csv\"\n",
    "copy_csv_query = \"COPY edge_table(source, target, osmid, length, name, highway, x1, y1, x2, y2) FROM STDIN DELIMITER ',' CSV HEADER\""
   ]
  },
  {
   "cell_type": "code",
   "execution_count": 111,
   "metadata": {},
   "outputs": [],
   "source": [
    "cursor.copy_expert(copy_csv_query, open(csv_file_name, \"r\"))"
   ]
  },
  {
   "cell_type": "markdown",
   "metadata": {},
   "source": [
    "### Create indexes on source and target"
   ]
  },
  {
   "cell_type": "code",
   "execution_count": 112,
   "metadata": {},
   "outputs": [],
   "source": [
    "cursor.execute(create_index)"
   ]
  },
  {
   "cell_type": "markdown",
   "metadata": {},
   "source": [
    "### Search queries"
   ]
  },
  {
   "cell_type": "code",
   "execution_count": 113,
   "metadata": {},
   "outputs": [],
   "source": [
    "ids = (356926768, 2104495834) # short (zakamycze, betel)\n",
    "# ids = (13822575, 11286442329) # random small"
   ]
  },
  {
   "cell_type": "code",
   "execution_count": 137,
   "metadata": {},
   "outputs": [],
   "source": [
    "dijkstra = f\"\"\"\n",
    "    SELECT * FROM pgr_dijkstra(\n",
    "    'SELECT id, source, target, length as cost, length as reverse_cost FROM edge_table',\n",
    "    {ids[0]}, {ids[1]},\n",
    "    directed => false);\n",
    "\"\"\"\n",
    "\n",
    "dijkstra_benchmark = f\"\"\"\n",
    "    EXPLAIN ANALYZE \n",
    "    SELECT * FROM pgr_dijkstra(\n",
    "    'SELECT id, source, target, length as cost, length as reverse_cost FROM edge_table',\n",
    "    {ids[0]}, {ids[1]},\n",
    "    directed => false);\n",
    "\"\"\"\n",
    "\n",
    "astar = f\"\"\"\n",
    "    SELECT * FROM pgr_aStar(\n",
    "    'SELECT id, source, target, length as cost, length as reverse_cost, x1, y1, x2, y2 FROM edge_table',\n",
    "    {ids[0]}, {ids[1]},\n",
    "    directed => false);\n",
    "\"\"\"\n",
    "\n",
    "astar_benchmark = f\"\"\"\n",
    "    EXPLAIN ANALYZE\n",
    "    SELECT * FROM pgr_aStar(\n",
    "    'SELECT id, source, target, length as cost, length as reverse_cost, x1, y1, x2, y2 FROM edge_table',\n",
    "    {ids[0]}, {ids[1]},\n",
    "    directed => false);\n",
    "\"\"\""
   ]
  },
  {
   "cell_type": "code",
   "execution_count": 138,
   "metadata": {},
   "outputs": [
    {
     "name": "stdout",
     "output_type": "stream",
     "text": [
      "\n",
      "    SELECT * FROM pgr_aStar(\n",
      "    'SELECT id, source, target, length as cost, length as reverse_cost, x1, y1, x2, y2 FROM edge_table',\n",
      "    356926768, 2104495834,\n",
      "    directed => false);\n",
      "\n",
      "\n",
      "    SELECT * FROM pgr_dijkstra(\n",
      "    'SELECT id, source, target, length as cost, length as reverse_cost FROM edge_table',\n",
      "    356926768, 2104495834,\n",
      "    directed => false);\n",
      "\n"
     ]
    }
   ],
   "source": [
    "print(astar)\n",
    "print(dijkstra)"
   ]
  },
  {
   "cell_type": "code",
   "execution_count": 133,
   "metadata": {},
   "outputs": [],
   "source": [
    "cursor.execute(astar)\n",
    "\n",
    "result = cursor.fetchall()\n",
    "columns = [desc[0] for desc in cursor.description]\n",
    "\n",
    "print(columns)\n",
    "\n",
    "for row in result:\n",
    "    print(row)"
   ]
  },
  {
   "cell_type": "code",
   "execution_count": 135,
   "metadata": {},
   "outputs": [],
   "source": [
    "cursor.execute(dijkstra)\n",
    "\n",
    "result = cursor.fetchall()\n",
    "columns = [desc[0] for desc in cursor.description]\n",
    "\n",
    "print(columns)\n",
    "\n",
    "for row in result:\n",
    "    print(row)"
   ]
  },
  {
   "cell_type": "markdown",
   "metadata": {},
   "source": [
    "### Disconnect"
   ]
  },
  {
   "cell_type": "code",
   "execution_count": 1,
   "metadata": {},
   "outputs": [
    {
     "ename": "NameError",
     "evalue": "name 'conn' is not defined",
     "output_type": "error",
     "traceback": [
      "\u001b[0;31m---------------------------------------------------------------------------\u001b[0m",
      "\u001b[0;31mNameError\u001b[0m                                 Traceback (most recent call last)",
      "\u001b[1;32m/home/pcend/Piotr/kod/lisboa-routing/load_data_postgres.ipynb Cell 27\u001b[0m line \u001b[0;36m1\n\u001b[0;32m----> <a href='vscode-notebook-cell:/home/pcend/Piotr/kod/lisboa-routing/load_data_postgres.ipynb#X36sZmlsZQ%3D%3D?line=0'>1</a>\u001b[0m conn\u001b[39m.\u001b[39mcommit() \n\u001b[1;32m      <a href='vscode-notebook-cell:/home/pcend/Piotr/kod/lisboa-routing/load_data_postgres.ipynb#X36sZmlsZQ%3D%3D?line=1'>2</a>\u001b[0m conn\u001b[39m.\u001b[39mclose() \n",
      "\u001b[0;31mNameError\u001b[0m: name 'conn' is not defined"
     ]
    }
   ],
   "source": [
    "conn.commit() \n",
    "conn.close() "
   ]
  }
 ],
 "metadata": {
  "kernelspec": {
   "display_name": "venv",
   "language": "python",
   "name": "python3"
  },
  "language_info": {
   "codemirror_mode": {
    "name": "ipython",
    "version": 3
   },
   "file_extension": ".py",
   "mimetype": "text/x-python",
   "name": "python",
   "nbconvert_exporter": "python",
   "pygments_lexer": "ipython3",
   "version": "3.11.6"
  }
 },
 "nbformat": 4,
 "nbformat_minor": 2
}

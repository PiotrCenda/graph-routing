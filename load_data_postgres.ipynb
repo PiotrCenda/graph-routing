{
 "cells": [
  {
   "cell_type": "code",
   "execution_count": 36,
   "metadata": {},
   "outputs": [],
   "source": [
    "import psycopg2"
   ]
  },
  {
   "cell_type": "markdown",
   "metadata": {},
   "source": [
    "### Sample postgres table:\n",
    "\n",
    "```\n",
    "CREATE TABLE edge_table (\n",
    "    id BIGSERIAL,\n",
    "    source BIGINT,\n",
    "    target BIGINT,\n",
    "    cost FLOAT,\n",
    "    x1 FLOAT,\n",
    "    y1 FLOAT,\n",
    "    x2 FLOAT,\n",
    "    y2 FLOAT\n",
    ");\n",
    "```"
   ]
  },
  {
   "cell_type": "markdown",
   "metadata": {},
   "source": [
    "### Postgres connection"
   ]
  },
  {
   "cell_type": "code",
   "execution_count": 37,
   "metadata": {},
   "outputs": [],
   "source": [
    "conn = psycopg2.connect(\n",
    "    host=\"localhost\",\n",
    "    database=\"krakow\",\n",
    "    user=\"postgres\",\n",
    "    password=\"postgres\")"
   ]
  },
  {
   "cell_type": "markdown",
   "metadata": {},
   "source": [
    "### Data loading"
   ]
  },
  {
   "cell_type": "code",
   "execution_count": 38,
   "metadata": {},
   "outputs": [],
   "source": [
    "conn.autocommit = True\n",
    "cursor = conn.cursor() "
   ]
  },
  {
   "cell_type": "code",
   "execution_count": 39,
   "metadata": {},
   "outputs": [],
   "source": [
    "drop_table = \"DROP TABLE IF EXISTS edge_table CASCADE;\"\n",
    "\n",
    "create_table = \"\"\"\n",
    "    CREATE TABLE edge_table (\n",
    "    source BIGINT,\n",
    "    target BIGINT,\n",
    "    osmid BIGINT,\n",
    "    length FLOAT,\n",
    "    x1 FLOAT,\n",
    "    y1 FLOAT,\n",
    "    x2 FLOAT,\n",
    "    y2 FLOAT);\n",
    "\"\"\"\n",
    "\n",
    "create_extension = \"\"\"\n",
    "    CREATE EXTENSION IF NOT EXISTS postgis;\n",
    "    CREATE EXTENSION IF NOT EXISTS pgrouting;\n",
    "\"\"\"\n",
    "\n",
    "create_index = \"CREATE INDEX index_edge_table ON edge_table (source, target);\""
   ]
  },
  {
   "cell_type": "markdown",
   "metadata": {},
   "source": [
    "### Drop table (if exists)"
   ]
  },
  {
   "cell_type": "code",
   "execution_count": 40,
   "metadata": {},
   "outputs": [],
   "source": [
    "cursor.execute(drop_table)"
   ]
  },
  {
   "cell_type": "markdown",
   "metadata": {},
   "source": [
    "### Create table"
   ]
  },
  {
   "cell_type": "code",
   "execution_count": 30,
   "metadata": {},
   "outputs": [],
   "source": [
    "cursor.execute(create_table)"
   ]
  },
  {
   "cell_type": "markdown",
   "metadata": {},
   "source": [
    "### Load data from csv"
   ]
  },
  {
   "cell_type": "code",
   "execution_count": 31,
   "metadata": {},
   "outputs": [],
   "source": [
    "# TODO: remember to change path to .csv file\n",
    "csv_file_name = \"/home/pcend/Piotr/kod/lisboa-routing/data/krakow_medium/edge_table_sql.csv\"\n",
    "copy_csv_query = \"COPY edge_table FROM STDIN DELIMITER ',' CSV HEADER\""
   ]
  },
  {
   "cell_type": "code",
   "execution_count": 32,
   "metadata": {},
   "outputs": [],
   "source": [
    "cursor.copy_expert(copy_csv_query, open(csv_file_name, \"r\"))"
   ]
  },
  {
   "cell_type": "markdown",
   "metadata": {},
   "source": [
    "### Create index"
   ]
  },
  {
   "cell_type": "code",
   "execution_count": 33,
   "metadata": {},
   "outputs": [],
   "source": [
    "cursor.execute(create_index)"
   ]
  },
  {
   "cell_type": "markdown",
   "metadata": {},
   "source": [
    "### pgRouting and postgis"
   ]
  },
  {
   "cell_type": "code",
   "execution_count": 34,
   "metadata": {},
   "outputs": [],
   "source": [
    "cursor.execute(create_extension)"
   ]
  },
  {
   "cell_type": "markdown",
   "metadata": {},
   "source": [
    "### Search queries"
   ]
  },
  {
   "cell_type": "code",
   "execution_count": 12,
   "metadata": {},
   "outputs": [],
   "source": [
    "ids = (356926768, 2104495834) # short\n",
    "ids = (22766069, 1222047203) # medium"
   ]
  },
  {
   "cell_type": "code",
   "execution_count": 13,
   "metadata": {},
   "outputs": [],
   "source": [
    "dijkstra = f\"\"\"\n",
    "    SELECT * FROM pgr_dijkstra(\n",
    "    'SELECT osmid as id, source, target, length as cost FROM edge_table',\n",
    "    {ids[0]}, {ids[1]},\n",
    "    directed => false);\n",
    "\"\"\"\n",
    "\n",
    "astar = f\"\"\"\n",
    "    SELECT * FROM pgr_astar(\n",
    "    'SELECT osmid as id, source, target, length as cost, x1, y1, x2, y2 FROM edge_table',\n",
    "    {ids[0]}, {ids[1]},\n",
    "    directed => false);\n",
    "\"\"\"\n",
    "\n",
    "dijkstra_benchmark = f\"\"\"\n",
    "    EXPLAIN ANALYZE \n",
    "    SELECT * FROM pgr_dijkstra(\n",
    "    'SELECT osmid as id, source, target, length as cost FROM edge_table',\n",
    "    {ids[0]}, {ids[1]},\n",
    "    directed => false);\n",
    "\"\"\"\n",
    "\n",
    "astar_benchmark = f\"\"\"\n",
    "    EXPLAIN ANALYZE\n",
    "    SELECT * FROM pgr_astar(\n",
    "    'SELECT osmid as id, source, target, length as cost, x1, y1, x2, y2 FROM edge_table',\n",
    "    {ids[0]}, {ids[1]},\n",
    "    directed => false);\n",
    "\"\"\""
   ]
  },
  {
   "cell_type": "code",
   "execution_count": 35,
   "metadata": {},
   "outputs": [
    {
     "name": "stdout",
     "output_type": "stream",
     "text": [
      "\n",
      "    SELECT * FROM pgr_astar(\n",
      "    'SELECT osmid as id, source, target, length as cost, x1, y1, x2, y2 FROM edge_table',\n",
      "    22766069, 1222047203,\n",
      "    directed => false);\n",
      "\n"
     ]
    }
   ],
   "source": [
    "print(astar)"
   ]
  },
  {
   "cell_type": "code",
   "execution_count": 19,
   "metadata": {},
   "outputs": [],
   "source": [
    "cursor.execute(dijkstra)"
   ]
  },
  {
   "cell_type": "code",
   "execution_count": 20,
   "metadata": {},
   "outputs": [
    {
     "name": "stdout",
     "output_type": "stream",
     "text": [
      "['seq', 'path_seq', 'start_vid', 'end_vid', 'node', 'edge', 'cost', 'agg_cost']\n"
     ]
    }
   ],
   "source": [
    "result = cursor.fetchall()\n",
    "columns = [desc[0] for desc in cursor.description]\n",
    "\n",
    "print(columns)\n",
    "\n",
    "for row in result:\n",
    "    print(row)"
   ]
  },
  {
   "cell_type": "code",
   "execution_count": 21,
   "metadata": {},
   "outputs": [],
   "source": [
    "cursor.execute(astar)"
   ]
  },
  {
   "cell_type": "code",
   "execution_count": 22,
   "metadata": {},
   "outputs": [
    {
     "name": "stdout",
     "output_type": "stream",
     "text": [
      "['seq', 'path_seq', 'node', 'edge', 'cost', 'agg_cost']\n"
     ]
    }
   ],
   "source": [
    "result = cursor.fetchall()\n",
    "columns = [desc[0] for desc in cursor.description]\n",
    "\n",
    "print(columns)\n",
    "\n",
    "for row in result:\n",
    "    print(row)"
   ]
  },
  {
   "cell_type": "markdown",
   "metadata": {},
   "source": [
    "### Disconnect"
   ]
  },
  {
   "cell_type": "code",
   "execution_count": 23,
   "metadata": {},
   "outputs": [],
   "source": [
    "conn.commit() \n",
    "conn.close() "
   ]
  }
 ],
 "metadata": {
  "kernelspec": {
   "display_name": "venv",
   "language": "python",
   "name": "python3"
  },
  "language_info": {
   "codemirror_mode": {
    "name": "ipython",
    "version": 3
   },
   "file_extension": ".py",
   "mimetype": "text/x-python",
   "name": "python",
   "nbconvert_exporter": "python",
   "pygments_lexer": "ipython3",
   "version": "3.11.6"
  }
 },
 "nbformat": 4,
 "nbformat_minor": 2
}

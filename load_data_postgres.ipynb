{
 "cells": [
  {
   "cell_type": "code",
   "execution_count": 1,
   "metadata": {},
   "outputs": [],
   "source": [
    "import psycopg2"
   ]
  },
  {
   "cell_type": "markdown",
   "metadata": {},
   "source": [
    "### Sample postgres table:\n",
    "\n",
    "```\n",
    "CREATE TABLE edge_table (\n",
    "    id BIGSERIAL,\n",
    "    source BIGINT,\n",
    "    target BIGINT,\n",
    "    cost FLOAT,\n",
    "    x1 FLOAT,\n",
    "    y1 FLOAT,\n",
    "    x2 FLOAT,\n",
    "    y2 FLOAT\n",
    ");\n",
    "```"
   ]
  },
  {
   "cell_type": "markdown",
   "metadata": {},
   "source": [
    "### Postgres connection"
   ]
  },
  {
   "cell_type": "code",
   "execution_count": 21,
   "metadata": {},
   "outputs": [],
   "source": [
    "conn = psycopg2.connect(\n",
    "    host=\"localhost\",\n",
    "    database=\"krakow\",\n",
    "    user=\"postgres\",\n",
    "    password=\"postgres\")"
   ]
  },
  {
   "cell_type": "markdown",
   "metadata": {},
   "source": [
    "### Data loading"
   ]
  },
  {
   "cell_type": "code",
   "execution_count": 22,
   "metadata": {},
   "outputs": [],
   "source": [
    "conn.autocommit = True\n",
    "cursor = conn.cursor() "
   ]
  },
  {
   "cell_type": "code",
   "execution_count": 26,
   "metadata": {},
   "outputs": [],
   "source": [
    "create_table = \"\"\"\n",
    "    CREATE TABLE edge_table (\n",
    "    source BIGINT,\n",
    "    target BIGINT,\n",
    "    osmid BIGINT,\n",
    "    length FLOAT,\n",
    "    x1 FLOAT,\n",
    "    y1 FLOAT,\n",
    "    x2 FLOAT,\n",
    "    y2 FLOAT);\n",
    "\"\"\"\n",
    "\n",
    "create_extension = \"\"\"\n",
    "    CREATE EXTENSION postgis;\n",
    "    CREATE EXTENSION pgrouting;\n",
    "\"\"\""
   ]
  },
  {
   "cell_type": "markdown",
   "metadata": {},
   "source": [
    "### Create table"
   ]
  },
  {
   "cell_type": "code",
   "execution_count": 27,
   "metadata": {},
   "outputs": [],
   "source": [
    "cursor.execute(create_table)"
   ]
  },
  {
   "cell_type": "markdown",
   "metadata": {},
   "source": [
    "### Load data from csv"
   ]
  },
  {
   "cell_type": "code",
   "execution_count": 28,
   "metadata": {},
   "outputs": [],
   "source": [
    "csv_file_name = \"/home/pcend/Piotr/kod/lisboa-routing/data/krakow/egde_table_sql.csv\"\n",
    "copy_csv_query = \"COPY edge_table FROM STDIN DELIMITER ',' CSV HEADER\""
   ]
  },
  {
   "cell_type": "code",
   "execution_count": 29,
   "metadata": {},
   "outputs": [],
   "source": [
    "cursor.copy_expert(copy_csv_query, open(csv_file_name, \"r\"))"
   ]
  },
  {
   "cell_type": "markdown",
   "metadata": {},
   "source": [
    "### pgRouting and postgis"
   ]
  },
  {
   "cell_type": "code",
   "execution_count": 30,
   "metadata": {},
   "outputs": [],
   "source": [
    "cursor.execute(create_extension)"
   ]
  },
  {
   "cell_type": "markdown",
   "metadata": {},
   "source": [
    "### Search queries"
   ]
  },
  {
   "cell_type": "code",
   "execution_count": 31,
   "metadata": {},
   "outputs": [],
   "source": [
    "dijkstra = \"\"\"\n",
    "    SELECT * FROM pgr_dijkstra(\n",
    "    'SELECT osmid as id, source, target, length as cost FROM edge_table',\n",
    "    356926768, 2104495834,\n",
    "    directed => false);\n",
    "\"\"\"\n",
    "\n",
    "astar = \"\"\"\n",
    "    SELECT * FROM pgr_astar(\n",
    "    'SELECT osmid as id, source, target, length as cost, x1, y1, x2, y2 FROM edge_table',\n",
    "    356926768, 2104495834,\n",
    "    directed => false);\n",
    "\"\"\"\n",
    "\n",
    "dijkstra_benchmark = \"\"\"\n",
    "    EXPLAIN ANALYZE \n",
    "    SELECT * FROM pgr_dijkstra(\n",
    "    'SELECT osmid as id, source, target, length as cost FROM edge_table',\n",
    "    356926768, 2104495834,\n",
    "    directed => false);\n",
    "\"\"\"\n",
    "\n",
    "astar_benchmark = \"\"\"\n",
    "    EXPLAIN ANALYZE\n",
    "    SELECT * FROM pgr_astar(\n",
    "    'SELECT osmid as id, source, target, length as cost, x1, y1, x2, y2 FROM edge_table',\n",
    "    356926768, 2104495834,\n",
    "    directed => false);\n",
    "\"\"\""
   ]
  },
  {
   "cell_type": "code",
   "execution_count": 46,
   "metadata": {},
   "outputs": [],
   "source": [
    "cursor.execute(dijkstra_benchmark)"
   ]
  },
  {
   "cell_type": "code",
   "execution_count": 50,
   "metadata": {},
   "outputs": [
    {
     "name": "stdout",
     "output_type": "stream",
     "text": [
      "['QUERY PLAN']\n",
      "('Function Scan on pgr_dijkstra  (cost=0.25..10.25 rows=1000 width=56) (actual time=991.165..991.179 rows=298 loops=1)',)\n",
      "('Planning Time: 0.038 ms',)\n",
      "('Execution Time: 991.206 ms',)\n"
     ]
    }
   ],
   "source": [
    "result = cursor.fetchall()\n",
    "columns = [desc[0] for desc in cursor.description]\n",
    "\n",
    "print(columns)\n",
    "\n",
    "for row in result:\n",
    "    print(row)"
   ]
  },
  {
   "cell_type": "code",
   "execution_count": 51,
   "metadata": {},
   "outputs": [],
   "source": [
    "cursor.execute(astar_benchmark)"
   ]
  },
  {
   "cell_type": "code",
   "execution_count": 53,
   "metadata": {},
   "outputs": [
    {
     "name": "stdout",
     "output_type": "stream",
     "text": [
      "['QUERY PLAN']\n",
      "('Function Scan on pgr_astar  (cost=0.25..10.25 rows=1000 width=40) (actual time=926.425..926.468 rows=1054 loops=1)',)\n",
      "('Planning Time: 0.047 ms',)\n",
      "('Execution Time: 926.517 ms',)\n"
     ]
    }
   ],
   "source": [
    "result = cursor.fetchall()\n",
    "columns = [desc[0] for desc in cursor.description]\n",
    "\n",
    "print(columns)\n",
    "\n",
    "for row in result:\n",
    "    print(row)"
   ]
  },
  {
   "cell_type": "markdown",
   "metadata": {},
   "source": [
    "### Disconnect"
   ]
  },
  {
   "cell_type": "code",
   "execution_count": 20,
   "metadata": {},
   "outputs": [],
   "source": [
    "conn.commit() \n",
    "conn.close() "
   ]
  }
 ],
 "metadata": {
  "kernelspec": {
   "display_name": "venv",
   "language": "python",
   "name": "python3"
  },
  "language_info": {
   "codemirror_mode": {
    "name": "ipython",
    "version": 3
   },
   "file_extension": ".py",
   "mimetype": "text/x-python",
   "name": "python",
   "nbconvert_exporter": "python",
   "pygments_lexer": "ipython3",
   "version": "3.11.6"
  }
 },
 "nbformat": 4,
 "nbformat_minor": 2
}

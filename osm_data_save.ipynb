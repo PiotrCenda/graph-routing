{
 "cells": [
  {
   "cell_type": "code",
   "execution_count": 1,
   "metadata": {},
   "outputs": [],
   "source": [
    "import os\n",
    "import osmnx as ox\n",
    "from pathlib import Path\n",
    "\n",
    "from iterative_csv_save import save_to_csv, transform_graph_to_dataframes"
   ]
  },
  {
   "cell_type": "markdown",
   "metadata": {},
   "source": [
    "### Graph from place with distance"
   ]
  },
  {
   "cell_type": "code",
   "execution_count": null,
   "metadata": {},
   "outputs": [],
   "source": [
    "G_krakow_big = ox.graph_from_address(\"Krakow\", dist=25000, dist_type=\"network\", network_type=\"all\", simplify=False)"
   ]
  },
  {
   "cell_type": "code",
   "execution_count": null,
   "metadata": {},
   "outputs": [
    {
     "name": "stdout",
     "output_type": "stream",
     "text": [
      "MultiDiGraph with 880933 nodes and 1850319 edges\n"
     ]
    }
   ],
   "source": [
    "print(G_krakow_big)"
   ]
  },
  {
   "cell_type": "code",
   "execution_count": 22,
   "metadata": {},
   "outputs": [],
   "source": [
    "# fig, ax = ox.plot_graph(G_krakow_big, node_size=0.5, edge_linewidth=0.1)"
   ]
  },
  {
   "cell_type": "markdown",
   "metadata": {},
   "source": [
    "### Graph from place"
   ]
  },
  {
   "cell_type": "code",
   "execution_count": 2,
   "metadata": {},
   "outputs": [],
   "source": [
    "G_krakow = ox.graph_from_place(\"Kraków\", network_type=\"all\", simplify=False)"
   ]
  },
  {
   "cell_type": "code",
   "execution_count": 3,
   "metadata": {},
   "outputs": [
    {
     "name": "stdout",
     "output_type": "stream",
     "text": [
      "MultiDiGraph with 333120 nodes and 721628 edges\n"
     ]
    }
   ],
   "source": [
    "print(G_krakow)"
   ]
  },
  {
   "cell_type": "code",
   "execution_count": 4,
   "metadata": {},
   "outputs": [],
   "source": [
    "# fig, ax = ox.plot_graph(G_krakow, node_size=0.5, edge_linewidth=0.1)"
   ]
  },
  {
   "cell_type": "code",
   "execution_count": 5,
   "metadata": {},
   "outputs": [],
   "source": [
    "gdf_nodes, gdf_relationships = ox.graph_to_gdfs(G_krakow)\n",
    "gdf_nodes.reset_index(inplace=True)\n",
    "gdf_relationships.reset_index(inplace=True)"
   ]
  },
  {
   "cell_type": "code",
   "execution_count": 6,
   "metadata": {},
   "outputs": [
    {
     "data": {
      "text/html": [
       "<div>\n",
       "<style scoped>\n",
       "    .dataframe tbody tr th:only-of-type {\n",
       "        vertical-align: middle;\n",
       "    }\n",
       "\n",
       "    .dataframe tbody tr th {\n",
       "        vertical-align: top;\n",
       "    }\n",
       "\n",
       "    .dataframe thead th {\n",
       "        text-align: right;\n",
       "    }\n",
       "</style>\n",
       "<table border=\"1\" class=\"dataframe\">\n",
       "  <thead>\n",
       "    <tr style=\"text-align: right;\">\n",
       "      <th></th>\n",
       "      <th>osmid</th>\n",
       "      <th>y</th>\n",
       "      <th>x</th>\n",
       "      <th>street_count</th>\n",
       "      <th>highway</th>\n",
       "      <th>ref</th>\n",
       "      <th>geometry</th>\n",
       "    </tr>\n",
       "  </thead>\n",
       "  <tbody>\n",
       "    <tr>\n",
       "      <th>0</th>\n",
       "      <td>13822575</td>\n",
       "      <td>50.082051</td>\n",
       "      <td>20.032569</td>\n",
       "      <td>4</td>\n",
       "      <td>NaN</td>\n",
       "      <td>NaN</td>\n",
       "      <td>POINT (20.03257 50.08205)</td>\n",
       "    </tr>\n",
       "    <tr>\n",
       "      <th>1</th>\n",
       "      <td>13822576</td>\n",
       "      <td>50.080695</td>\n",
       "      <td>20.034350</td>\n",
       "      <td>3</td>\n",
       "      <td>NaN</td>\n",
       "      <td>NaN</td>\n",
       "      <td>POINT (20.03435 50.08069)</td>\n",
       "    </tr>\n",
       "    <tr>\n",
       "      <th>2</th>\n",
       "      <td>13822577</td>\n",
       "      <td>50.079400</td>\n",
       "      <td>20.036068</td>\n",
       "      <td>3</td>\n",
       "      <td>NaN</td>\n",
       "      <td>NaN</td>\n",
       "      <td>POINT (20.03607 50.07940)</td>\n",
       "    </tr>\n",
       "    <tr>\n",
       "      <th>3</th>\n",
       "      <td>13822581</td>\n",
       "      <td>50.081723</td>\n",
       "      <td>20.036520</td>\n",
       "      <td>2</td>\n",
       "      <td>NaN</td>\n",
       "      <td>NaN</td>\n",
       "      <td>POINT (20.03652 50.08172)</td>\n",
       "    </tr>\n",
       "    <tr>\n",
       "      <th>4</th>\n",
       "      <td>13822694</td>\n",
       "      <td>50.081361</td>\n",
       "      <td>20.035596</td>\n",
       "      <td>4</td>\n",
       "      <td>NaN</td>\n",
       "      <td>NaN</td>\n",
       "      <td>POINT (20.03560 50.08136)</td>\n",
       "    </tr>\n",
       "  </tbody>\n",
       "</table>\n",
       "</div>"
      ],
      "text/plain": [
       "      osmid          y          x  street_count highway  ref  \\\n",
       "0  13822575  50.082051  20.032569             4     NaN  NaN   \n",
       "1  13822576  50.080695  20.034350             3     NaN  NaN   \n",
       "2  13822577  50.079400  20.036068             3     NaN  NaN   \n",
       "3  13822581  50.081723  20.036520             2     NaN  NaN   \n",
       "4  13822694  50.081361  20.035596             4     NaN  NaN   \n",
       "\n",
       "                    geometry  \n",
       "0  POINT (20.03257 50.08205)  \n",
       "1  POINT (20.03435 50.08069)  \n",
       "2  POINT (20.03607 50.07940)  \n",
       "3  POINT (20.03652 50.08172)  \n",
       "4  POINT (20.03560 50.08136)  "
      ]
     },
     "execution_count": 6,
     "metadata": {},
     "output_type": "execute_result"
    }
   ],
   "source": [
    "gdf_nodes.head()"
   ]
  },
  {
   "cell_type": "code",
   "execution_count": 7,
   "metadata": {},
   "outputs": [
    {
     "data": {
      "text/html": [
       "<div>\n",
       "<style scoped>\n",
       "    .dataframe tbody tr th:only-of-type {\n",
       "        vertical-align: middle;\n",
       "    }\n",
       "\n",
       "    .dataframe tbody tr th {\n",
       "        vertical-align: top;\n",
       "    }\n",
       "\n",
       "    .dataframe thead th {\n",
       "        text-align: right;\n",
       "    }\n",
       "</style>\n",
       "<table border=\"1\" class=\"dataframe\">\n",
       "  <thead>\n",
       "    <tr style=\"text-align: right;\">\n",
       "      <th></th>\n",
       "      <th>u</th>\n",
       "      <th>v</th>\n",
       "      <th>key</th>\n",
       "      <th>osmid</th>\n",
       "      <th>oneway</th>\n",
       "      <th>lanes</th>\n",
       "      <th>ref</th>\n",
       "      <th>name</th>\n",
       "      <th>highway</th>\n",
       "      <th>maxspeed</th>\n",
       "      <th>reversed</th>\n",
       "      <th>length</th>\n",
       "      <th>junction</th>\n",
       "      <th>service</th>\n",
       "      <th>access</th>\n",
       "      <th>width</th>\n",
       "      <th>bridge</th>\n",
       "      <th>tunnel</th>\n",
       "      <th>est_width</th>\n",
       "      <th>geometry</th>\n",
       "    </tr>\n",
       "  </thead>\n",
       "  <tbody>\n",
       "    <tr>\n",
       "      <th>0</th>\n",
       "      <td>13822575</td>\n",
       "      <td>965423962</td>\n",
       "      <td>0</td>\n",
       "      <td>25042019</td>\n",
       "      <td>True</td>\n",
       "      <td>2</td>\n",
       "      <td>776</td>\n",
       "      <td>Kocmyrzowska</td>\n",
       "      <td>secondary</td>\n",
       "      <td>50</td>\n",
       "      <td>False</td>\n",
       "      <td>18.886</td>\n",
       "      <td>NaN</td>\n",
       "      <td>NaN</td>\n",
       "      <td>NaN</td>\n",
       "      <td>NaN</td>\n",
       "      <td>NaN</td>\n",
       "      <td>NaN</td>\n",
       "      <td>NaN</td>\n",
       "      <td>LINESTRING (20.03257 50.08205, 20.03277 50.08216)</td>\n",
       "    </tr>\n",
       "    <tr>\n",
       "      <th>1</th>\n",
       "      <td>13822575</td>\n",
       "      <td>8284483157</td>\n",
       "      <td>0</td>\n",
       "      <td>148469683</td>\n",
       "      <td>False</td>\n",
       "      <td>2</td>\n",
       "      <td>NaN</td>\n",
       "      <td>Obrońców Krzyża</td>\n",
       "      <td>tertiary</td>\n",
       "      <td>50</td>\n",
       "      <td>True</td>\n",
       "      <td>8.987</td>\n",
       "      <td>NaN</td>\n",
       "      <td>NaN</td>\n",
       "      <td>NaN</td>\n",
       "      <td>NaN</td>\n",
       "      <td>NaN</td>\n",
       "      <td>NaN</td>\n",
       "      <td>NaN</td>\n",
       "      <td>LINESTRING (20.03257 50.08205, 20.03249 50.08211)</td>\n",
       "    </tr>\n",
       "    <tr>\n",
       "      <th>2</th>\n",
       "      <td>13822575</td>\n",
       "      <td>777395552</td>\n",
       "      <td>0</td>\n",
       "      <td>997754503</td>\n",
       "      <td>False</td>\n",
       "      <td>3</td>\n",
       "      <td>NaN</td>\n",
       "      <td>Obrońców Krzyża</td>\n",
       "      <td>tertiary</td>\n",
       "      <td>50</td>\n",
       "      <td>True</td>\n",
       "      <td>13.867</td>\n",
       "      <td>NaN</td>\n",
       "      <td>NaN</td>\n",
       "      <td>NaN</td>\n",
       "      <td>NaN</td>\n",
       "      <td>NaN</td>\n",
       "      <td>NaN</td>\n",
       "      <td>NaN</td>\n",
       "      <td>LINESTRING (20.03257 50.08205, 20.03270 50.08196)</td>\n",
       "    </tr>\n",
       "    <tr>\n",
       "      <th>3</th>\n",
       "      <td>13822576</td>\n",
       "      <td>1234198750</td>\n",
       "      <td>0</td>\n",
       "      <td>2954554</td>\n",
       "      <td>False</td>\n",
       "      <td>NaN</td>\n",
       "      <td>NaN</td>\n",
       "      <td>Ignacego Mościckiego</td>\n",
       "      <td>residential</td>\n",
       "      <td>40</td>\n",
       "      <td>False</td>\n",
       "      <td>14.652</td>\n",
       "      <td>NaN</td>\n",
       "      <td>NaN</td>\n",
       "      <td>NaN</td>\n",
       "      <td>NaN</td>\n",
       "      <td>NaN</td>\n",
       "      <td>NaN</td>\n",
       "      <td>NaN</td>\n",
       "      <td>LINESTRING (20.03435 50.08069, 20.03451 50.08078)</td>\n",
       "    </tr>\n",
       "    <tr>\n",
       "      <th>4</th>\n",
       "      <td>13822576</td>\n",
       "      <td>5339146823</td>\n",
       "      <td>0</td>\n",
       "      <td>553072298</td>\n",
       "      <td>False</td>\n",
       "      <td>2</td>\n",
       "      <td>NaN</td>\n",
       "      <td>Obrońców Krzyża</td>\n",
       "      <td>tertiary</td>\n",
       "      <td>50</td>\n",
       "      <td>True</td>\n",
       "      <td>24.027</td>\n",
       "      <td>NaN</td>\n",
       "      <td>NaN</td>\n",
       "      <td>NaN</td>\n",
       "      <td>NaN</td>\n",
       "      <td>NaN</td>\n",
       "      <td>NaN</td>\n",
       "      <td>NaN</td>\n",
       "      <td>LINESTRING (20.03435 50.08069, 20.03413 50.08086)</td>\n",
       "    </tr>\n",
       "  </tbody>\n",
       "</table>\n",
       "</div>"
      ],
      "text/plain": [
       "          u           v  key      osmid  oneway lanes  ref  \\\n",
       "0  13822575   965423962    0   25042019    True     2  776   \n",
       "1  13822575  8284483157    0  148469683   False     2  NaN   \n",
       "2  13822575   777395552    0  997754503   False     3  NaN   \n",
       "3  13822576  1234198750    0    2954554   False   NaN  NaN   \n",
       "4  13822576  5339146823    0  553072298   False     2  NaN   \n",
       "\n",
       "                   name      highway maxspeed  reversed  length junction  \\\n",
       "0          Kocmyrzowska    secondary       50     False  18.886      NaN   \n",
       "1       Obrońców Krzyża     tertiary       50      True   8.987      NaN   \n",
       "2       Obrońców Krzyża     tertiary       50      True  13.867      NaN   \n",
       "3  Ignacego Mościckiego  residential       40     False  14.652      NaN   \n",
       "4       Obrońców Krzyża     tertiary       50      True  24.027      NaN   \n",
       "\n",
       "  service access width bridge tunnel est_width  \\\n",
       "0     NaN    NaN   NaN    NaN    NaN       NaN   \n",
       "1     NaN    NaN   NaN    NaN    NaN       NaN   \n",
       "2     NaN    NaN   NaN    NaN    NaN       NaN   \n",
       "3     NaN    NaN   NaN    NaN    NaN       NaN   \n",
       "4     NaN    NaN   NaN    NaN    NaN       NaN   \n",
       "\n",
       "                                            geometry  \n",
       "0  LINESTRING (20.03257 50.08205, 20.03277 50.08216)  \n",
       "1  LINESTRING (20.03257 50.08205, 20.03249 50.08211)  \n",
       "2  LINESTRING (20.03257 50.08205, 20.03270 50.08196)  \n",
       "3  LINESTRING (20.03435 50.08069, 20.03451 50.08078)  \n",
       "4  LINESTRING (20.03435 50.08069, 20.03413 50.08086)  "
      ]
     },
     "execution_count": 7,
     "metadata": {},
     "output_type": "execute_result"
    }
   ],
   "source": [
    "gdf_relationships.head()"
   ]
  },
  {
   "cell_type": "markdown",
   "metadata": {},
   "source": [
    "### Save chosen graph to csv"
   ]
  },
  {
   "cell_type": "code",
   "execution_count": 8,
   "metadata": {},
   "outputs": [
    {
     "data": {
      "text/plain": [
       "0"
      ]
     },
     "execution_count": 8,
     "metadata": {},
     "output_type": "execute_result"
    }
   ],
   "source": [
    "filename = \"krakow\"\n",
    "csv_paths = f\"./data/{filename}\"\n",
    "Path(csv_paths).mkdir(exist_ok=True, parents=True)\n",
    "os.system(f\"rm {csv_paths}/*\")"
   ]
  },
  {
   "cell_type": "code",
   "execution_count": 9,
   "metadata": {},
   "outputs": [],
   "source": [
    "nodes, relationships, edge_table_sql = transform_graph_to_dataframes(G_krakow)"
   ]
  },
  {
   "cell_type": "code",
   "execution_count": 10,
   "metadata": {},
   "outputs": [],
   "source": [
    "save_to_csv(nodes, relationships, edge_table_sql, csv_paths)"
   ]
  },
  {
   "cell_type": "code",
   "execution_count": null,
   "metadata": {},
   "outputs": [],
   "source": []
  }
 ],
 "metadata": {
  "kernelspec": {
   "display_name": "venv",
   "language": "python",
   "name": "python3"
  },
  "language_info": {
   "codemirror_mode": {
    "name": "ipython",
    "version": 3
   },
   "file_extension": ".py",
   "mimetype": "text/x-python",
   "name": "python",
   "nbconvert_exporter": "python",
   "pygments_lexer": "ipython3",
   "version": "3.11.6"
  }
 },
 "nbformat": 4,
 "nbformat_minor": 2
}
